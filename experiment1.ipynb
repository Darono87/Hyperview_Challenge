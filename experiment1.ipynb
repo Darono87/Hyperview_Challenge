{
 "cells": [
  {
   "cell_type": "code",
   "execution_count": 30,
   "metadata": {},
   "outputs": [
    {
     "name": "stdout",
     "output_type": "stream",
     "text": [
      "The autoreload extension is already loaded. To reload it, use:\n",
      "  %reload_ext autoreload\n"
     ]
    }
   ],
   "source": [
    "%load_ext autoreload\n",
    "%autoreload 2\n",
    "import tensorflow as tf\n",
    "\n",
    "physical_devices= tf.config.list_physical_devices()"
   ]
  },
  {
   "cell_type": "code",
   "execution_count": 38,
   "metadata": {},
   "outputs": [
    {
     "data": {
      "text/plain": [
       "(1732, 150)"
      ]
     },
     "execution_count": 38,
     "metadata": {},
     "output_type": "execute_result"
    }
   ],
   "source": [
    "import numpy as np\n",
    "from sklearn.model_selection import train_test_split\n",
    "from loader.CSVLoader import csv_loader\n",
    "\n",
    "gt,wave = csv_loader()\n",
    "all_data = np.load(\"./experiment1/exp_1d.npy\")\n",
    "test_data = np.load('./experiment1/exp_1d_test.npy')\n",
    "all_data.shape"
   ]
  },
  {
   "cell_type": "code",
   "execution_count": 39,
   "metadata": {},
   "outputs": [],
   "source": [
    "from creators.CNN3DCreator import  CNN3DNetworkParams\n",
    "from creators.ModelParams import Conv1DParams, Conv2DParams, Conv3DParams, DeepLayerParams, FlattenParams, GenericNeuralNetworkParams\n",
    "from creators.CNN1DCreator import  CNN1DNetworkParams\n",
    "from creators.CNN2DCreator import CNN2DNetworkParams\n",
    "from prep.HelperBlocks import pipe\n",
    "import tensorflow as tf\n",
    "\n",
    "drop=0.53\n",
    "epochs=1\n",
    "optimizer = tf.keras.optimizers.Adam\n",
    "folds = 5\n",
    "\n",
    "\n",
    "params_cnn3d = CNN3DNetworkParams(\n",
    "    conv=[Conv3DParams(kernel=(10,10,1),pool_size=(10,10,1),filters=32,normalization=True,activation=\"relu\", dropout=drop),\n",
    "          Conv3DParams(kernel=(1,1,15),pool_size=(1,1,15),filters=128, normalization=True,activation=\"relu\", dropout=drop),\n",
    "          ],\n",
    "    flatten=FlattenParams(dropout=drop,normalization=True),\n",
    "    deep=[DeepLayerParams(neurons=1000,dropout=drop,normalization=True),\n",
    "          DeepLayerParams(neurons=400,dropout=drop,normalization=True)],\n",
    "    generic=GenericNeuralNetworkParams(\n",
    "        prepare_function=lambda data, is_test: pipe(data,[\n",
    "            lambda d: np.expand_dims(d, axis=-1),\n",
    "        ]),\n",
    "        epochs=epochs,\n",
    "        optimizer=optimizer\n",
    "        )\n",
    ")\n",
    "\n",
    "params_cnn2d = CNN2DNetworkParams(\n",
    "    conv=[Conv2DParams(kernel=(5,5),pool_size=(2,2),filters=64,normalization=True,activation=\"relu\", dropout=drop),\n",
    "          Conv2DParams(kernel=(3,3),pool_size=(2,2),filters=512, normalization=True,activation=\"relu\", dropout=drop),\n",
    "          Conv2DParams(kernel=(2,2),pool_size=(2,2),filters=512, normalization=True,activation=\"relu\", dropout=drop),\n",
    "          ],\n",
    "    flatten=FlattenParams(dropout=drop,normalization=True),\n",
    "    deep=[DeepLayerParams(neurons=1000,dropout=drop,normalization=True),\n",
    "          DeepLayerParams(neurons=400,dropout=drop,normalization=True)],\n",
    "    generic=GenericNeuralNetworkParams(\n",
    "        prepare_function=lambda data, is_test: data,\n",
    "        epochs=epochs,\n",
    "        optimizer=optimizer\n",
    "        )\n",
    ")\n",
    "\n",
    "params_cnn1d = CNN1DNetworkParams(\n",
    "    conv=[Conv1DParams(kernel=10,pool_size=5,filters=500,normalization=True,activation=\"relu\", dropout=drop),\n",
    "          Conv1DParams(kernel=5,pool_size=5,filters=1500, normalization=True,activation=\"relu\", dropout=drop)\n",
    "          ],\n",
    "    deep=[DeepLayerParams(neurons=1000,dropout=drop,normalization=True),\n",
    "          DeepLayerParams(neurons=400,dropout=drop,normalization=True)],\n",
    "          flatten=FlattenParams(dropout=drop,normalization=True),\n",
    "    generic=GenericNeuralNetworkParams(\n",
    "        prepare_function=lambda data, is_test: pipe(data,[  \n",
    "            lambda d: np.expand_dims(d, axis=-1),\n",
    "        ]),\n",
    "        epochs=epochs,\n",
    "        optimizer=optimizer\n",
    "        )\n",
    ")"
   ]
  },
  {
   "cell_type": "code",
   "execution_count": 40,
   "metadata": {},
   "outputs": [],
   "source": [
    "from creators.ModelParams import ConvolutionalRecurrentLayerParams, RandomForestParams, RecurrentLayerParams, SVRParams\n",
    "from creators.CRNNCreator import CRNNNetworkParams\n",
    "from creators.RNNCreator import RNNNetworkParams\n",
    "from creators.CLSTMCreator import CLSTMNetworkParams\n",
    "from prep.HelperBlocks import split_3d_to_timeseries\n",
    "\n",
    "params_crnn = CRNNNetworkParams(\n",
    "    conv=[Conv3DParams(kernel=(1,10,10),pool_size=(1,10,10),filters=50,normalization=True,dropout=drop)],\n",
    "    rec=[RecurrentLayerParams(type=tf.keras.layers.LSTM,units=125,bidirectional=True,dropout=drop),\n",
    "         RecurrentLayerParams(type=tf.keras.layers.LSTM,units=125,bidirectional=True,dropout=drop)],\n",
    "    flatten=FlattenParams(dropout=drop,normalization=True),\n",
    "    deep=[DeepLayerParams(neurons=1000,dropout=drop,normalization=True),\n",
    "          DeepLayerParams(neurons=400,dropout=drop,normalization=True)],\n",
    "    generic=GenericNeuralNetworkParams(\n",
    "        prepare_function=lambda data, is_test: pipe(data,[\n",
    "            lambda d: split_3d_to_timeseries(d,15)\n",
    "        ]),\n",
    "        epochs=epochs,\n",
    "        optimizer=optimizer\n",
    "        )\n",
    ")\n",
    "\n",
    "params_lstm = RNNNetworkParams(\n",
    "    rec=[\n",
    "         RecurrentLayerParams(type=tf.keras.layers.LSTM,units=128,bidirectional=True,dropout=drop,normalization=True)],\n",
    "    flatten=FlattenParams(dropout=drop,normalization=True),\n",
    "    deep=[DeepLayerParams(neurons=1000,dropout=drop,normalization=True),\n",
    "          DeepLayerParams(neurons=400,dropout=drop,normalization=True)],\n",
    "    generic=GenericNeuralNetworkParams(\n",
    "        prepare_function=lambda data, is_test:pipe(data,[\n",
    "            lambda d: np.reshape(d, (d.shape[0],15,10)),\n",
    "        ]),\n",
    "        epochs=epochs,\n",
    "        optimizer=optimizer\n",
    "    ))\n",
    "\n",
    "params_clstm = CLSTMNetworkParams(\n",
    "    rec=[ConvolutionalRecurrentLayerParams(filters=15,kernel_size=(3,3))],\n",
    "    flatten=FlattenParams(dropout=drop,normalization=True),\n",
    "    deep=[DeepLayerParams(neurons=1000,dropout=drop,normalization=True),\n",
    "          DeepLayerParams(neurons=400,dropout=drop,normalization=True)],\n",
    "    generic=GenericNeuralNetworkParams(\n",
    "        prepare_function=lambda data, is_test: data.transpose((0,3,1,2)).reshape((\n",
    "            data.shape[0],\n",
    "            15,\n",
    "            10,\n",
    "            data.shape[1],\n",
    "            data.shape[2])).transpose((0,2,3,4,1)),\n",
    "        epochs=epochs,\n",
    "        optimizer=optimizer\n",
    "        )\n",
    ")\n",
    "\n",
    "params_svr = SVRParams(lambda data, is_test: data)\n",
    "params_rf = RandomForestParams(lambda data, is_test: data)"
   ]
  },
  {
   "cell_type": "code",
   "execution_count": 41,
   "metadata": {},
   "outputs": [
    {
     "name": "stdout",
     "output_type": "stream",
     "text": [
      "44/44 [==============================] - 6s 111ms/step - loss: 6.2004 - mean_absolute_error: 6.2004 - score_metric: 735.7247 - lr: 0.0010 - val_loss: 38.3458 - val_mean_absolute_error: 38.3458 - val_score_metric: 36437.7891 - val_lr: 0.0010\n",
      "11/11 [==============================] - 0s 28ms/step - loss: 38.3458 - mean_absolute_error: 38.3458 - score_metric: 36437.7891 - lr: 0.0010\n",
      "11/11 [==============================] - 0s 15ms/step\n",
      "37/37 [==============================] - 1s 19ms/step\n",
      "44/44 [==============================] - 5s 103ms/step - loss: 6.2777 - mean_absolute_error: 6.2777 - score_metric: 700.6745 - lr: 0.0010 - val_loss: 20.3758 - val_mean_absolute_error: 20.3758 - val_score_metric: 8377.8311 - val_lr: 0.0010\n",
      "11/11 [==============================] - 0s 30ms/step - loss: 20.3758 - mean_absolute_error: 20.3758 - score_metric: 8377.8311 - lr: 0.0010\n",
      "11/11 [==============================] - 0s 15ms/step\n",
      "37/37 [==============================] - 1s 14ms/step\n",
      "44/44 [==============================] - 5s 106ms/step - loss: 6.1847 - mean_absolute_error: 6.1847 - score_metric: 671.6090 - lr: 0.0010 - val_loss: 3.6547 - val_mean_absolute_error: 3.6547 - val_score_metric: 432.9826 - val_lr: 0.0010\n",
      "11/11 [==============================] - 0s 31ms/step - loss: 3.6547 - mean_absolute_error: 3.6547 - score_metric: 432.9826 - lr: 0.0010\n",
      "11/11 [==============================] - 0s 16ms/step\n",
      "37/37 [==============================] - 1s 14ms/step\n",
      "44/44 [==============================] - 5s 102ms/step - loss: 6.2864 - mean_absolute_error: 6.2864 - score_metric: 667.0305 - lr: 0.0010 - val_loss: 28.1598 - val_mean_absolute_error: 28.1598 - val_score_metric: 19129.7363 - val_lr: 0.0010\n",
      "11/11 [==============================] - 0s 29ms/step - loss: 28.1598 - mean_absolute_error: 28.1598 - score_metric: 19129.7363 - lr: 0.0010\n",
      "11/11 [==============================] - 0s 16ms/step\n",
      "37/37 [==============================] - 1s 14ms/step\n",
      "44/44 [==============================] - 5s 101ms/step - loss: 6.2101 - mean_absolute_error: 6.2101 - score_metric: 693.4833 - lr: 0.0010 - val_loss: 31.2035 - val_mean_absolute_error: 31.2035 - val_score_metric: 18211.0020 - val_lr: 0.0010\n",
      "11/11 [==============================] - 0s 28ms/step - loss: 31.2035 - mean_absolute_error: 31.2035 - score_metric: 18211.0020 - lr: 0.0010\n",
      "11/11 [==============================] - 0s 15ms/step\n",
      "37/37 [==============================] - 1s 14ms/step\n",
      "44/44 [==============================] - 6s 115ms/step - loss: 6.2237 - mean_absolute_error: 6.2237 - score_metric: 685.4985 - lr: 0.0010 - val_loss: 5.5684 - val_mean_absolute_error: 5.5684 - val_score_metric: 555.1292 - val_lr: 0.0010\n",
      "11/11 [==============================] - 0s 39ms/step - loss: 5.5684 - mean_absolute_error: 5.5684 - score_metric: 555.1292 - lr: 0.0010\n",
      "11/11 [==============================] - 0s 24ms/step\n",
      "37/37 [==============================] - 1s 23ms/step\n",
      "44/44 [==============================] - 6s 120ms/step - loss: 6.1889 - mean_absolute_error: 6.1889 - score_metric: 685.7157 - lr: 0.0010 - val_loss: 5.6418 - val_mean_absolute_error: 5.6418 - val_score_metric: 513.5606 - val_lr: 0.0010\n",
      "11/11 [==============================] - 0s 39ms/step - loss: 5.6418 - mean_absolute_error: 5.6418 - score_metric: 513.5606 - lr: 0.0010\n",
      "11/11 [==============================] - 0s 28ms/step\n",
      "37/37 [==============================] - 1s 25ms/step\n",
      "44/44 [==============================] - 6s 121ms/step - loss: 6.2260 - mean_absolute_error: 6.2260 - score_metric: 694.3201 - lr: 0.0010 - val_loss: 4.5280 - val_mean_absolute_error: 4.5280 - val_score_metric: 360.4638 - val_lr: 0.0010\n",
      "11/11 [==============================] - 0s 39ms/step - loss: 4.5280 - mean_absolute_error: 4.5280 - score_metric: 360.4638 - lr: 0.0010\n",
      "11/11 [==============================] - 0s 25ms/step\n",
      "37/37 [==============================] - 1s 24ms/step\n",
      "44/44 [==============================] - 6s 124ms/step - loss: 6.1901 - mean_absolute_error: 6.1901 - score_metric: 685.9951 - lr: 0.0010 - val_loss: 5.2658 - val_mean_absolute_error: 5.2658 - val_score_metric: 540.9431 - val_lr: 0.0010\n",
      "11/11 [==============================] - 0s 39ms/step - loss: 5.2658 - mean_absolute_error: 5.2658 - score_metric: 540.9431 - lr: 0.0010\n",
      "11/11 [==============================] - 0s 25ms/step\n",
      "37/37 [==============================] - 1s 24ms/step\n",
      "44/44 [==============================] - 6s 118ms/step - loss: 6.2021 - mean_absolute_error: 6.2021 - score_metric: 700.2300 - lr: 0.0010 - val_loss: 5.6120 - val_mean_absolute_error: 5.6120 - val_score_metric: 494.8631 - val_lr: 0.0010\n",
      "11/11 [==============================] - 0s 43ms/step - loss: 5.6120 - mean_absolute_error: 5.6120 - score_metric: 494.8631 - lr: 0.0010\n",
      "11/11 [==============================] - 0s 24ms/step\n",
      "37/37 [==============================] - 1s 23ms/step\n"
     ]
    },
    {
     "data": {
      "text/plain": [
       "[<flow.NeuralNetworkFlow.NeuralNetworkFlow at 0x2ae8e5a03d0>,\n",
       " <flow.NeuralNetworkFlow.NeuralNetworkFlow at 0x2aedfb47e80>]"
      ]
     },
     "execution_count": 41,
     "metadata": {},
     "output_type": "execute_result"
    }
   ],
   "source": [
    "from ModelExperiment import ModelExperiment\n",
    "\n",
    "experiment = ModelExperiment()\n",
    "experiment.run_experiment(\n",
    "    params_vector=[params_cnn1d,params_lstm],\n",
    "    data=[all_data,all_data,all_data,all_data],\n",
    "    gt=[gt[\"pH\"].values,gt[\"pH\"].values,gt[\"pH\"].values,gt[\"pH\"].values],\n",
    "    folds=folds,\n",
    "    test_data=[test_data,test_data,test_data,test_data]\n",
    ")"
   ]
  },
  {
   "cell_type": "code",
   "execution_count": 44,
   "metadata": {},
   "outputs": [],
   "source": [
    "experiment.models[0].save_history('./history1.csv')"
   ]
  },
  {
   "cell_type": "code",
   "execution_count": null,
   "metadata": {},
   "outputs": [],
   "source": [
    "experiment.get_errors_report('./errors1.csv')"
   ]
  },
  {
   "cell_type": "code",
   "execution_count": null,
   "metadata": {},
   "outputs": [
    {
     "name": "stdout",
     "output_type": "stream",
     "text": [
      "0.04428415298461914\n"
     ]
    }
   ],
   "source": [
    "print(experiment.models[1].last_crossval_predict_time)"
   ]
  },
  {
   "cell_type": "code",
   "execution_count": null,
   "metadata": {},
   "outputs": [
    {
     "name": "stdout",
     "output_type": "stream",
     "text": [
      "42.80209965705872\n"
     ]
    }
   ],
   "source": [
    "print(experiment.models[1].last_crossval_fit_time)"
   ]
  },
  {
   "cell_type": "code",
   "execution_count": null,
   "metadata": {},
   "outputs": [
    {
     "name": "stdout",
     "output_type": "stream",
     "text": [
      "[0.07870845 0.07444822 0.08654511 0.078417   0.02610544]\n"
     ]
    }
   ],
   "source": [
    "print(experiment.models[1].crossval_rs\n",
    ")"
   ]
  }
 ],
 "metadata": {
  "kernelspec": {
   "display_name": "thesis",
   "language": "python",
   "name": "python3"
  },
  "language_info": {
   "codemirror_mode": {
    "name": "ipython",
    "version": 3
   },
   "file_extension": ".py",
   "mimetype": "text/x-python",
   "name": "python",
   "nbconvert_exporter": "python",
   "pygments_lexer": "ipython3",
   "version": "3.9.16"
  }
 },
 "nbformat": 4,
 "nbformat_minor": 2
}
