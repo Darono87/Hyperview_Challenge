{
 "cells": [
  {
   "cell_type": "code",
   "execution_count": 1,
   "metadata": {},
   "outputs": [],
   "source": [
    "%load_ext autoreload\n",
    "%autoreload 2"
   ]
  },
  {
   "cell_type": "code",
   "execution_count": 2,
   "metadata": {},
   "outputs": [],
   "source": [
    "from loader.TrainValLoader import train_val_loader\n",
    "from loader.CSVLoader import csv_loader\n",
    "\n",
    "layers = 90\n",
    "gt,wave = csv_loader()\n",
    "all_data = train_val_loader()"
   ]
  },
  {
   "cell_type": "code",
   "execution_count": 3,
   "metadata": {},
   "outputs": [],
   "source": [
    "import numpy as np\n",
    "from prep.BM3DBlock import bm3d_block\n",
    "from prep.WaveletBlock import wavelet_transform\n",
    "from prep.ContinuumRemovalBlock import continuum_removal\n",
    "from prep.GaussianBlock import gaussian_block\n",
    "from prep.ResizeBlock import make_resize_block\n",
    "from prep.HelperBlocks import pipe\n",
    "from prep.PCABlock import pca_block\n",
    "from prep.SpectralIndexes import calc_indexes\n",
    "from prep.SmoothDerivativeBlock import savgol_block\n",
    "from selMethods.FCBF import fcbf_method\n",
    "from selMethods.LowestInterCor import lowest_inter_cor_method\n",
    "from selMethods.MutualInfo import mutual_info_method\n",
    "from selMethods.SpearmanCor import spearman_method\n",
    "from selMethods.reliefF import reliefF_method\n",
    "\n",
    "\n",
    "transform_general = lambda d, is_test: pipe(d,[\n",
    "    make_resize_block(10, pre_fill=0, order=0),\n",
    "    lambda d: savgol_block(d,5,2,1,2),\n",
    "    lambda d: np.ma.filled(d,0)\n",
    "]) "
   ]
  },
  {
   "cell_type": "code",
   "execution_count": null,
   "metadata": {},
   "outputs": [],
   "source": [
    "from loader.TestLoader import test_loader\n",
    "\n",
    "\n",
    "all_data_test = test_loader()\n",
    "transformed, transform_next = lowest_inter_cor_method(transform_general(all_data,False),final_count=layers)\n",
    "transformed_test = transform_next(transform_general(all_data_test,True))\n",
    "np.save(\"./experiment3/pearson_90\",transformed)\n",
    "np.save(\"./experiment3/pearson_90_test\",transformed_test)"
   ]
  },
  {
   "cell_type": "code",
   "execution_count": 5,
   "metadata": {},
   "outputs": [
    {
     "ename": "NameError",
     "evalue": "name 'all_data_test' is not defined",
     "output_type": "error",
     "traceback": [
      "\u001b[1;31m---------------------------------------------------------------------------\u001b[0m",
      "\u001b[1;31mNameError\u001b[0m                                 Traceback (most recent call last)",
      "\u001b[1;32mc:\\Users\\Wiktor\\Desktop\\Praca Magisterska\\Thesis Code\\src\\prep4.ipynb Cell 4\u001b[0m line \u001b[0;36m4\n\u001b[0;32m      <a href='vscode-notebook-cell:/c%3A/Users/Wiktor/Desktop/Praca%20Magisterska/Thesis%20Code/src/prep4.ipynb#W4sZmlsZQ%3D%3D?line=1'>2</a>\u001b[0m name\u001b[39m=\u001b[39m\u001b[39m\"\u001b[39m\u001b[39mresize16\u001b[39m\u001b[39m\"\u001b[39m\n\u001b[0;32m      <a href='vscode-notebook-cell:/c%3A/Users/Wiktor/Desktop/Praca%20Magisterska/Thesis%20Code/src/prep4.ipynb#W4sZmlsZQ%3D%3D?line=2'>3</a>\u001b[0m transformed, transform_next, indices \u001b[39m=\u001b[39m spearman_method(transform_function(all_data,\u001b[39mFalse\u001b[39;00m),gt[\u001b[39m\"\u001b[39m\u001b[39mK\u001b[39m\u001b[39m\"\u001b[39m],final_count\u001b[39m=\u001b[39m\u001b[39m30\u001b[39m)\n\u001b[1;32m----> <a href='vscode-notebook-cell:/c%3A/Users/Wiktor/Desktop/Praca%20Magisterska/Thesis%20Code/src/prep4.ipynb#W4sZmlsZQ%3D%3D?line=3'>4</a>\u001b[0m transformed_test \u001b[39m=\u001b[39m transform_next(transform_function(all_data_test,\u001b[39mTrue\u001b[39;00m))\n\u001b[0;32m      <a href='vscode-notebook-cell:/c%3A/Users/Wiktor/Desktop/Praca%20Magisterska/Thesis%20Code/src/prep4.ipynb#W4sZmlsZQ%3D%3D?line=4'>5</a>\u001b[0m np\u001b[39m.\u001b[39msave(\u001b[39mf\u001b[39m\u001b[39m\"\u001b[39m\u001b[39m./experiment3/\u001b[39m\u001b[39m{\u001b[39;00mname\u001b[39m}\u001b[39;00m\u001b[39m_K\u001b[39m\u001b[39m\"\u001b[39m,transformed)\n\u001b[0;32m      <a href='vscode-notebook-cell:/c%3A/Users/Wiktor/Desktop/Praca%20Magisterska/Thesis%20Code/src/prep4.ipynb#W4sZmlsZQ%3D%3D?line=5'>6</a>\u001b[0m np\u001b[39m.\u001b[39msave(\u001b[39mf\u001b[39m\u001b[39m\"\u001b[39m\u001b[39m./experiment3/\u001b[39m\u001b[39m{\u001b[39;00mname\u001b[39m}\u001b[39;00m\u001b[39m_K_test\u001b[39m\u001b[39m\"\u001b[39m,transformed_test)\n",
      "\u001b[1;31mNameError\u001b[0m: name 'all_data_test' is not defined"
     ]
    }
   ],
   "source": [
    "name=\"spearman_90\"\n",
    "function_name = spearman_method\n",
    "transformed, transform_next, indices = function_name(transform_general(all_data,False),gt[\"K\"],final_count=layers)\n",
    "transformed_test = transform_next(transform_general(all_data_test,True))\n",
    "np.save(f\"./experiment3/{name}_K\",transformed)\n",
    "np.save(f\"./experiment3/{name}_K_test\",transformed_test)"
   ]
  },
  {
   "cell_type": "code",
   "execution_count": null,
   "metadata": {},
   "outputs": [],
   "source": [
    "transformed, transform_next, indices = function_name(transform_general(all_data,False),gt[\"P\"],final_count=layers)\n",
    "transformed_test = transform_next(transform_general(all_data_test,True))\n",
    "np.save(f\"./experiment3/{name}_P\",transformed)\n",
    "np.save(f\"./experiment3/{name}_P_test\",transformed_test)"
   ]
  },
  {
   "cell_type": "code",
   "execution_count": null,
   "metadata": {},
   "outputs": [],
   "source": [
    "transformed, transform_next, indices = function_name(transform_general(all_data,False),gt[\"Mg\"],final_count=layers)\n",
    "transformed_test = transform_next(transform_general(all_data_test,True))\n",
    "np.save(f\"./experiment3/{name}_Mg\",transformed)\n",
    "np.save(f\"./experiment3/{name}_Mg_test\",transformed_test)"
   ]
  },
  {
   "cell_type": "code",
   "execution_count": null,
   "metadata": {},
   "outputs": [],
   "source": [
    "transformed, transform_next, indices = function_name(transform_function(all_data,False),gt[\"pH\"],final_count=layers)\n",
    "transformed_test = transform_next(transform_general(all_data_test,True))\n",
    "np.save(f\"./experiment3/{name}_pH\",transformed)\n",
    "np.save(f\"./experiment3/{name}_pH_test\",transformed_test)"
   ]
  },
  {
   "cell_type": "code",
   "execution_count": null,
   "metadata": {},
   "outputs": [],
   "source": [
    "transformed, transform_next, indices = reliefF_method(transform_general(all_data,False),gt[\"pH\"],final_count=layers)\n",
    "indices"
   ]
  },
  {
   "cell_type": "code",
   "execution_count": null,
   "metadata": {},
   "outputs": [],
   "source": [
    "transformed, transform_next, indices = fcbf_method(transform_general(all_data,False),gt[\"pH\"],final_count=layers)\n",
    "indices"
   ]
  }
 ],
 "metadata": {
  "kernelspec": {
   "display_name": "thesis",
   "language": "python",
   "name": "python3"
  },
  "language_info": {
   "codemirror_mode": {
    "name": "ipython",
    "version": 3
   },
   "file_extension": ".py",
   "mimetype": "text/x-python",
   "name": "python",
   "nbconvert_exporter": "python",
   "pygments_lexer": "ipython3",
   "version": "3.9.16"
  },
  "orig_nbformat": 4
 },
 "nbformat": 4,
 "nbformat_minor": 2
}
