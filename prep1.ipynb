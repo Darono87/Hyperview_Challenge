{
 "cells": [
  {
   "cell_type": "code",
   "execution_count": 107,
   "metadata": {},
   "outputs": [
    {
     "name": "stdout",
     "output_type": "stream",
     "text": [
      "The autoreload extension is already loaded. To reload it, use:\n",
      "  %reload_ext autoreload\n"
     ]
    }
   ],
   "source": [
    "%load_ext autoreload\n",
    "%autoreload 2"
   ]
  },
  {
   "cell_type": "code",
   "execution_count": 108,
   "metadata": {},
   "outputs": [],
   "source": [
    "from loader.TrainValLoader import train_val_loader\n",
    "from loader.CSVLoader import csv_loader\n",
    "\n",
    "gt,wave = csv_loader()\n",
    "all_data = train_val_loader()"
   ]
  },
  {
   "cell_type": "code",
   "execution_count": 133,
   "metadata": {},
   "outputs": [],
   "source": [
    "import numpy as np\n",
    "from prep.WaveletBlock import wavelet_transform\n",
    "from prep.ContinuumRemovalBlock import continuum_removal_ref, continuum_removal_independent\n",
    "from prep.GaussianBlock import gaussian_block,gaussian_block1d\n",
    "from prep.ResizeBlock import make_resize_block\n",
    "from prep.MSCBlock import msc_block\n",
    "from prep.ReducerBlocks import mean_1d_block\n",
    "from prep.SNVBlock import real_snv_block,normalize,snv_block\n",
    "from prep.HelperBlocks import pipe\n",
    "from prep.PCABlock import pca_block\n",
    "from prep.SpectralIndexes import calc_EVI,calc_PVI,calc_SDy,calc_indexes\n",
    "from prep.SmoothDerivativeBlock import savgol_block,savgol_block1d,smooth_derivative_block\n",
    "\n",
    "\n",
    "transform_3d = lambda d, is_test: pipe(d,[\n",
    "    make_resize_block(10, pre_fill=0, order=0),\n",
    "    lambda d: np.ma.filled(d,0)\n",
    "])\n",
    "\n",
    "transform_1d = lambda d, is_test: pipe(d,[\n",
    "    mean_1d_block\n",
    "])\n",
    "\n",
    "transformed3d = transform_3d(all_data,False)\n",
    "transformed1d = transform_1d(all_data,False)"
   ]
  },
  {
   "cell_type": "code",
   "execution_count": null,
   "metadata": {},
   "outputs": [],
   "source": [
    "from loader.TestLoader import test_loader\n",
    "\n",
    "\n",
    "all_data_test = test_loader()\n",
    "test_transformed1d = transform_1d(all_data_test,True)\n",
    "test_transformed3d = transform_3d(all_data_test,True)"
   ]
  },
  {
   "cell_type": "code",
   "execution_count": null,
   "metadata": {},
   "outputs": [],
   "source": [
    "np.save(\"./transformed1d\",transformed1d)\n",
    "np.save(\"./transformed_test1d\",test_transformed1d)\n",
    "\n",
    "np.save(\"./transformed3d\",transformed3d)\n",
    "np.save(\"./transformed_test3d\",test_transformed3d)"
   ]
  }
 ],
 "metadata": {
  "kernelspec": {
   "display_name": "thesis",
   "language": "python",
   "name": "python3"
  },
  "language_info": {
   "codemirror_mode": {
    "name": "ipython",
    "version": 3
   },
   "file_extension": ".py",
   "mimetype": "text/x-python",
   "name": "python",
   "nbconvert_exporter": "python",
   "pygments_lexer": "ipython3",
   "version": "3.9.16"
  },
  "orig_nbformat": 4
 },
 "nbformat": 4,
 "nbformat_minor": 2
}
