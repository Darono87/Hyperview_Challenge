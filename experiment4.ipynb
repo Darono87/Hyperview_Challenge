{
 "cells": [
  {
   "cell_type": "code",
   "execution_count": 9,
   "metadata": {},
   "outputs": [
    {
     "name": "stdout",
     "output_type": "stream",
     "text": [
      "The autoreload extension is already loaded. To reload it, use:\n",
      "  %reload_ext autoreload\n"
     ]
    },
    {
     "data": {
      "text/plain": [
       "[PhysicalDevice(name='/physical_device:CPU:0', device_type='CPU'),\n",
       " PhysicalDevice(name='/physical_device:GPU:0', device_type='GPU')]"
      ]
     },
     "execution_count": 9,
     "metadata": {},
     "output_type": "execute_result"
    }
   ],
   "source": [
    "%load_ext autoreload\n",
    "%autoreload 2\n",
    "import tensorflow as tf\n",
    "\n",
    "tf.config.list_physical_devices()"
   ]
  },
  {
   "cell_type": "code",
   "execution_count": 10,
   "metadata": {},
   "outputs": [],
   "source": [
    "import numpy as np\n",
    "from loader.CSVLoader import csv_loader\n",
    "\n",
    "gt,wave = csv_loader()\n",
    "\n",
    "name=\"test8\"\n",
    "\n",
    "all_data_k = np.load(f\"./experiment4/{name}_K.npy\")\n",
    "test_data_k = np.load(f'./experiment4/{name}_K_test.npy')\n",
    "\n",
    "all_data_p = np.load(f\"./experiment4/{name}_P.npy\")\n",
    "test_data_p = np.load(f'./experiment4/{name}_P_test.npy')\n",
    "\n",
    "all_data_Mg = np.load(f\"./experiment4/{name}_Mg.npy\")\n",
    "test_data_Mg = np.load(f'./experiment4/{name}_Mg_test.npy')\n",
    "\n",
    "\n"
   ]
  },
  {
   "cell_type": "code",
   "execution_count": 11,
   "metadata": {},
   "outputs": [],
   "source": [
    "from creators.CNN3DCreator import  CNN3DNetworkParams\n",
    "from creators.CRNNCreator import CRNNNetworkParams\n",
    "from creators.ModelParams import Conv1DParams, Conv2DParams, Conv3DParams, DeepLayerParams, FlattenParams, GenericNeuralNetworkParams, RandomForestParams, RecurrentLayerParams, SVRParams\n",
    "from creators.CNN1DCreator import  CNN1DNetworkParams\n",
    "from creators.CNN2DCreator import  CNN2DNetworkParams\n",
    "from prep.HelperBlocks import pipe, split_3d_to_timeseries\n",
    "import tensorflow as tf\n",
    "from prep.MSCBlock import msc_block, msc_block1d\n",
    "\n",
    "from prep.Normlize import normalize_layers\n",
    "\n",
    "drop=0.53\n",
    "epochs=75\n",
    "optimizer = tf.keras.optimizers.Adam\n",
    "folds = 5\n",
    "\n",
    "params_cnn2d = CNN2DNetworkParams(\n",
    "    conv=[Conv2DParams(kernel=(5,5),pool_size=(2,2),filters=64,normalization=True,activation=\"relu\", dropout=drop),\n",
    "          Conv2DParams(kernel=(3,3),pool_size=(2,2),filters=512, normalization=True,activation=\"relu\", dropout=drop),\n",
    "          Conv2DParams(kernel=(2,2),pool_size=(2,2),filters=1024, normalization=True,activation=\"relu\", dropout=drop),\n",
    "          ],\n",
    "    flatten=FlattenParams(dropout=drop,normalization=True),\n",
    "    deep=[DeepLayerParams(neurons=1000,dropout=drop,normalization=True),\n",
    "          DeepLayerParams(neurons=400,dropout=drop,normalization=True)],\n",
    "    generic=GenericNeuralNetworkParams(\n",
    "        prepare_function=lambda data, is_test: pipe(data,[\n",
    "            lambda d: d]), \n",
    "        epochs=epochs,\n",
    "        optimizer=optimizer\n",
    "        )\n",
    ")\n",
    "\n",
    "params_cnn2d_task1 = CNN2DNetworkParams(\n",
    "    conv=[Conv2DParams(kernel=(4,4),pool_size=(3,3),filters=64,normalization=True,activation=\"relu\", dropout=drop),\n",
    "          Conv2DParams(kernel=(4,4),pool_size=(2,2),filters=512, normalization=True,activation=\"relu\", dropout=drop),\n",
    "          Conv2DParams(kernel=(3,3),pool_size=(2,2),filters=512, normalization=True,activation=\"relu\", dropout=drop),\n",
    "          ],\n",
    "    flatten=FlattenParams(dropout=drop,normalization=True),\n",
    "    deep=[DeepLayerParams(neurons=1000,dropout=drop,normalization=True),\n",
    "          DeepLayerParams(neurons=400,dropout=drop,normalization=True)],\n",
    "    generic=GenericNeuralNetworkParams(\n",
    "        prepare_function=lambda data, is_test: pipe(data,[\n",
    "            lambda d: d]), \n",
    "        epochs=epochs,\n",
    "        optimizer=optimizer\n",
    "        )\n",
    ")\n",
    "\n",
    "params_cnn2d_task2 = CNN2DNetworkParams(\n",
    "    conv=[Conv2DParams(kernel=(5,5),pool_size=(3,3),filters=64,normalization=True,activation=\"relu\", dropout=drop),\n",
    "          Conv2DParams(kernel=(5,5),pool_size=(3,3),filters=512, normalization=True,activation=\"relu\", dropout=drop),\n",
    "          Conv2DParams(kernel=(5,5),pool_size=(2,2),filters=1024, normalization=True,activation=\"relu\", dropout=drop),\n",
    "          ],\n",
    "    flatten=FlattenParams(dropout=drop,normalization=True),\n",
    "    deep=[DeepLayerParams(neurons=1000,dropout=drop,normalization=True),\n",
    "          DeepLayerParams(neurons=400,dropout=drop,normalization=True)],\n",
    "    generic=GenericNeuralNetworkParams(\n",
    "        prepare_function=lambda data, is_test: pipe(data,[\n",
    "            lambda d: d]), \n",
    "        epochs=epochs,\n",
    "        optimizer=optimizer,loss=tf.losses.Huber()\n",
    "        )\n",
    ")"
   ]
  },
  {
   "cell_type": "code",
   "execution_count": 12,
   "metadata": {},
   "outputs": [
    {
     "name": "stdout",
     "output_type": "stream",
     "text": [
      "Epoch 1/75\n",
      "44/44 [==============================] - 6s 118ms/step - loss: 158.5455 - mean_absolute_error: 159.0455 - score_metric: 18.8299 - lr: 0.0010 - val_loss: 171.9456 - val_mean_absolute_error: 172.4456 - val_score_metric: 27.7117 - val_lr: 0.0010\n",
      "Epoch 2/75\n",
      "44/44 [==============================] - 5s 112ms/step - loss: 157.1197 - mean_absolute_error: 157.6197 - score_metric: 18.0657 - lr: 0.0010 - val_loss: 163.9891 - val_mean_absolute_error: 164.4891 - val_score_metric: 25.2156 - val_lr: 0.0010\n",
      "Epoch 3/75\n",
      "44/44 [==============================] - 5s 108ms/step - loss: 154.9127 - mean_absolute_error: 155.4127 - score_metric: 17.8505 - lr: 0.0010 - val_loss: 160.6100 - val_mean_absolute_error: 161.1100 - val_score_metric: 24.4117 - val_lr: 0.0010\n",
      "Epoch 4/75\n",
      "44/44 [==============================] - 5s 104ms/step - loss: 150.9569 - mean_absolute_error: 151.4569 - score_metric: 17.3164 - lr: 0.0010 - val_loss: 150.9521 - val_mean_absolute_error: 151.4521 - val_score_metric: 21.2781 - val_lr: 0.0010\n",
      "Epoch 5/75\n",
      "44/44 [==============================] - 5s 103ms/step - loss: 144.5908 - mean_absolute_error: 145.0908 - score_metric: 15.8270 - lr: 0.0010 - val_loss: 142.9220 - val_mean_absolute_error: 143.4220 - val_score_metric: 19.2940 - val_lr: 0.0010\n",
      "Epoch 6/75\n",
      "44/44 [==============================] - 5s 103ms/step - loss: 134.8135 - mean_absolute_error: 135.3135 - score_metric: 13.7108 - lr: 0.0010 - val_loss: 133.7832 - val_mean_absolute_error: 134.2832 - val_score_metric: 16.8084 - val_lr: 0.0010\n",
      "Epoch 7/75\n",
      "44/44 [==============================] - 5s 105ms/step - loss: 121.3044 - mean_absolute_error: 121.8044 - score_metric: 11.3786 - lr: 0.0010 - val_loss: 118.9889 - val_mean_absolute_error: 119.4889 - val_score_metric: 13.9553 - val_lr: 0.0010\n",
      "Epoch 8/75\n",
      "44/44 [==============================] - 5s 104ms/step - loss: 103.3358 - mean_absolute_error: 103.8357 - score_metric: 8.5132 - lr: 0.0010 - val_loss: 92.4490 - val_mean_absolute_error: 92.9481 - val_score_metric: 8.5245 - val_lr: 0.0010\n",
      "Epoch 9/75\n",
      "44/44 [==============================] - 5s 105ms/step - loss: 81.4717 - mean_absolute_error: 81.9716 - score_metric: 5.8769 - lr: 0.0010 - val_loss: 70.4980 - val_mean_absolute_error: 70.9946 - val_score_metric: 4.9023 - val_lr: 0.0010\n",
      "Epoch 10/75\n",
      "44/44 [==============================] - 5s 111ms/step - loss: 58.1520 - mean_absolute_error: 58.6507 - score_metric: 3.4964 - lr: 0.0010 - val_loss: 42.9335 - val_mean_absolute_error: 43.4313 - val_score_metric: 2.0280 - val_lr: 0.0010\n",
      "Epoch 11/75\n",
      "44/44 [==============================] - 5s 110ms/step - loss: 41.2140 - mean_absolute_error: 41.7102 - score_metric: 1.9227 - lr: 0.0010 - val_loss: 34.4916 - val_mean_absolute_error: 34.9900 - val_score_metric: 1.3708 - val_lr: 0.0010\n",
      "Epoch 12/75\n",
      "44/44 [==============================] - 5s 110ms/step - loss: 34.8325 - mean_absolute_error: 35.3303 - score_metric: 1.4049 - lr: 0.0010 - val_loss: 33.2832 - val_mean_absolute_error: 33.7814 - val_score_metric: 1.3508 - val_lr: 0.0010\n",
      "Epoch 13/75\n",
      "44/44 [==============================] - 5s 110ms/step - loss: 31.7653 - mean_absolute_error: 32.2604 - score_metric: 1.2128 - lr: 0.0010 - val_loss: 29.9095 - val_mean_absolute_error: 30.4053 - val_score_metric: 1.0030 - val_lr: 0.0010\n",
      "Epoch 14/75\n",
      "44/44 [==============================] - 4s 101ms/step - loss: 31.4713 - mean_absolute_error: 31.9668 - score_metric: 1.1745 - lr: 0.0010 - val_loss: 31.9024 - val_mean_absolute_error: 32.3934 - val_score_metric: 1.1590 - val_lr: 0.0010\n",
      "Epoch 15/75\n",
      "44/44 [==============================] - 5s 106ms/step - loss: 30.3792 - mean_absolute_error: 30.8750 - score_metric: 1.1237 - lr: 0.0010 - val_loss: 29.6145 - val_mean_absolute_error: 30.1112 - val_score_metric: 0.9926 - val_lr: 0.0010\n",
      "Epoch 16/75\n",
      "44/44 [==============================] - 5s 110ms/step - loss: 30.2943 - mean_absolute_error: 30.7903 - score_metric: 1.1174 - lr: 0.0010 - val_loss: 27.7616 - val_mean_absolute_error: 28.2573 - val_score_metric: 0.8547 - val_lr: 0.0010\n",
      "Epoch 17/75\n",
      "44/44 [==============================] - 4s 101ms/step - loss: 30.0792 - mean_absolute_error: 30.5754 - score_metric: 1.0724 - lr: 0.0010 - val_loss: 28.5928 - val_mean_absolute_error: 29.0913 - val_score_metric: 0.9135 - val_lr: 0.0010\n",
      "Epoch 18/75\n",
      "44/44 [==============================] - 5s 103ms/step - loss: 30.3087 - mean_absolute_error: 30.8046 - score_metric: 1.0986 - lr: 0.0010 - val_loss: 27.9981 - val_mean_absolute_error: 28.4914 - val_score_metric: 0.8705 - val_lr: 0.0010\n",
      "Epoch 19/75\n",
      "44/44 [==============================] - 5s 103ms/step - loss: 30.1104 - mean_absolute_error: 30.6057 - score_metric: 1.0849 - lr: 0.0010 - val_loss: 28.4598 - val_mean_absolute_error: 28.9531 - val_score_metric: 0.8727 - val_lr: 0.0010\n",
      "Epoch 20/75\n",
      "44/44 [==============================] - 5s 104ms/step - loss: 29.4609 - mean_absolute_error: 29.9571 - score_metric: 1.0865 - lr: 0.0010 - val_loss: 28.3792 - val_mean_absolute_error: 28.8737 - val_score_metric: 0.8743 - val_lr: 0.0010\n",
      "Epoch 21/75\n",
      "44/44 [==============================] - 5s 106ms/step - loss: 30.4092 - mean_absolute_error: 30.9067 - score_metric: 1.0960 - lr: 0.0010 - val_loss: 27.7945 - val_mean_absolute_error: 28.2922 - val_score_metric: 0.8639 - val_lr: 0.0010\n",
      "Epoch 22/75\n",
      "44/44 [==============================] - 5s 114ms/step - loss: 29.7444 - mean_absolute_error: 30.2404 - score_metric: 1.0889 - lr: 0.0010 - val_loss: 27.6457 - val_mean_absolute_error: 28.1427 - val_score_metric: 0.8421 - val_lr: 0.0010\n",
      "Epoch 23/75\n",
      "44/44 [==============================] - 5s 105ms/step - loss: 29.5065 - mean_absolute_error: 30.0032 - score_metric: 1.0662 - lr: 0.0010 - val_loss: 28.1416 - val_mean_absolute_error: 28.6337 - val_score_metric: 0.8700 - val_lr: 0.0010\n",
      "Epoch 24/75\n",
      "44/44 [==============================] - 5s 106ms/step - loss: 29.4914 - mean_absolute_error: 29.9879 - score_metric: 1.0578 - lr: 0.0010 - val_loss: 27.6195 - val_mean_absolute_error: 28.1134 - val_score_metric: 0.8422 - val_lr: 0.0010\n",
      "Epoch 25/75\n",
      "44/44 [==============================] - 6s 142ms/step - loss: 29.8023 - mean_absolute_error: 30.2972 - score_metric: 1.0745 - lr: 0.0010 - val_loss: 28.2697 - val_mean_absolute_error: 28.7647 - val_score_metric: 0.8748 - val_lr: 0.0010\n",
      "Epoch 26/75\n",
      "44/44 [==============================] - 5s 105ms/step - loss: 29.6227 - mean_absolute_error: 30.1177 - score_metric: 1.0497 - lr: 0.0010 - val_loss: 28.2700 - val_mean_absolute_error: 28.7669 - val_score_metric: 0.8713 - val_lr: 0.0010\n",
      "Epoch 27/75\n",
      "44/44 [==============================] - 4s 102ms/step - loss: 30.0857 - mean_absolute_error: 30.5830 - score_metric: 1.1046 - lr: 0.0010 - val_loss: 27.7103 - val_mean_absolute_error: 28.2062 - val_score_metric: 0.8421 - val_lr: 0.0010\n",
      "Epoch 28/75\n",
      "44/44 [==============================] - 4s 100ms/step - loss: 29.5960 - mean_absolute_error: 30.0910 - score_metric: 1.0710 - lr: 0.0010 - val_loss: 28.0703 - val_mean_absolute_error: 28.5653 - val_score_metric: 0.8647 - val_lr: 0.0010\n",
      "Epoch 29/75\n",
      "44/44 [==============================] - 4s 101ms/step - loss: 29.8690 - mean_absolute_error: 30.3649 - score_metric: 1.0876 - lr: 0.0010 - val_loss: 27.8586 - val_mean_absolute_error: 28.3546 - val_score_metric: 0.8482 - val_lr: 0.0010\n",
      "Epoch 30/75\n",
      "44/44 [==============================] - 4s 101ms/step - loss: 28.7891 - mean_absolute_error: 29.2859 - score_metric: 1.0472 - lr: 0.0010 - val_loss: 28.2855 - val_mean_absolute_error: 28.7833 - val_score_metric: 0.8674 - val_lr: 0.0010\n",
      "Epoch 31/75\n",
      "44/44 [==============================] - 4s 101ms/step - loss: 29.7432 - mean_absolute_error: 30.2391 - score_metric: 1.0858 - lr: 0.0010 - val_loss: 28.1034 - val_mean_absolute_error: 28.6017 - val_score_metric: 0.8681 - val_lr: 0.0010\n",
      "Epoch 32/75\n",
      "44/44 [==============================] - 5s 104ms/step - loss: 28.9028 - mean_absolute_error: 29.3984 - score_metric: 1.0259 - lr: 0.0010 - val_loss: 27.7352 - val_mean_absolute_error: 28.2288 - val_score_metric: 0.8460 - val_lr: 0.0010\n",
      "Epoch 33/75\n",
      "44/44 [==============================] - 5s 110ms/step - loss: 29.2887 - mean_absolute_error: 29.7841 - score_metric: 1.0794 - lr: 0.0010 - val_loss: 27.4794 - val_mean_absolute_error: 27.9740 - val_score_metric: 0.8244 - val_lr: 0.0010\n",
      "Epoch 34/75\n",
      "44/44 [==============================] - 5s 112ms/step - loss: 29.4959 - mean_absolute_error: 29.9916 - score_metric: 1.0467 - lr: 0.0010 - val_loss: 27.3314 - val_mean_absolute_error: 27.8268 - val_score_metric: 0.8122 - val_lr: 0.0010\n",
      "Epoch 35/75\n",
      "44/44 [==============================] - 5s 108ms/step - loss: 29.2262 - mean_absolute_error: 29.7222 - score_metric: 1.0505 - lr: 0.0010 - val_loss: 27.4090 - val_mean_absolute_error: 27.9063 - val_score_metric: 0.8248 - val_lr: 0.0010\n",
      "Epoch 36/75\n",
      "44/44 [==============================] - 5s 120ms/step - loss: 28.3994 - mean_absolute_error: 28.8938 - score_metric: 1.0003 - lr: 0.0010 - val_loss: 27.4920 - val_mean_absolute_error: 27.9851 - val_score_metric: 0.8226 - val_lr: 0.0010\n",
      "Epoch 37/75\n",
      "44/44 [==============================] - 6s 136ms/step - loss: 29.1130 - mean_absolute_error: 29.6079 - score_metric: 1.0431 - lr: 0.0010 - val_loss: 27.5998 - val_mean_absolute_error: 28.0951 - val_score_metric: 0.8428 - val_lr: 0.0010\n",
      "Epoch 38/75\n",
      "44/44 [==============================] - 5s 116ms/step - loss: 28.5930 - mean_absolute_error: 29.0906 - score_metric: 1.0058 - lr: 0.0010 - val_loss: 27.4339 - val_mean_absolute_error: 27.9281 - val_score_metric: 0.8181 - val_lr: 0.0010\n",
      "Epoch 39/75\n",
      "44/44 [==============================] - 4s 102ms/step - loss: 29.0516 - mean_absolute_error: 29.5470 - score_metric: 1.0327 - lr: 0.0010 - val_loss: 27.8477 - val_mean_absolute_error: 28.3439 - val_score_metric: 0.8571 - val_lr: 0.0010\n",
      "Epoch 40/75\n",
      "44/44 [==============================] - 4s 102ms/step - loss: 29.5304 - mean_absolute_error: 30.0243 - score_metric: 1.0570 - lr: 0.0010 - val_loss: 27.5725 - val_mean_absolute_error: 28.0686 - val_score_metric: 0.8308 - val_lr: 0.0010\n",
      "Epoch 41/75\n",
      "44/44 [==============================] - 4s 99ms/step - loss: 28.5977 - mean_absolute_error: 29.0942 - score_metric: 1.0094 - lr: 0.0010 - val_loss: 27.0748 - val_mean_absolute_error: 27.5689 - val_score_metric: 0.8204 - val_lr: 0.0010\n",
      "Epoch 42/75\n",
      "44/44 [==============================] - 4s 100ms/step - loss: 28.4313 - mean_absolute_error: 28.9267 - score_metric: 1.0073 - lr: 0.0010 - val_loss: 27.1196 - val_mean_absolute_error: 27.6138 - val_score_metric: 0.8254 - val_lr: 0.0010\n",
      "Epoch 43/75\n",
      "44/44 [==============================] - 4s 102ms/step - loss: 28.1724 - mean_absolute_error: 28.6673 - score_metric: 0.9984 - lr: 0.0010 - val_loss: 27.3931 - val_mean_absolute_error: 27.8881 - val_score_metric: 0.8181 - val_lr: 0.0010\n",
      "Epoch 44/75\n",
      "44/44 [==============================] - 4s 99ms/step - loss: 29.3791 - mean_absolute_error: 29.8749 - score_metric: 1.0662 - lr: 0.0010 - val_loss: 26.9455 - val_mean_absolute_error: 27.4400 - val_score_metric: 0.8128 - val_lr: 0.0010\n",
      "Epoch 45/75\n",
      "44/44 [==============================] - 4s 101ms/step - loss: 28.5882 - mean_absolute_error: 29.0823 - score_metric: 1.0055 - lr: 0.0010 - val_loss: 27.0287 - val_mean_absolute_error: 27.5206 - val_score_metric: 0.8180 - val_lr: 0.0010\n",
      "Epoch 46/75\n",
      "44/44 [==============================] - 4s 101ms/step - loss: 28.0120 - mean_absolute_error: 28.5059 - score_metric: 0.9922 - lr: 0.0010 - val_loss: 27.1711 - val_mean_absolute_error: 27.6642 - val_score_metric: 0.8210 - val_lr: 0.0010\n",
      "Epoch 47/75\n",
      "44/44 [==============================] - 4s 99ms/step - loss: 28.3481 - mean_absolute_error: 28.8433 - score_metric: 1.0204 - lr: 0.0010 - val_loss: 27.1100 - val_mean_absolute_error: 27.6036 - val_score_metric: 0.8295 - val_lr: 0.0010\n",
      "Epoch 48/75\n",
      "44/44 [==============================] - 4s 101ms/step - loss: 28.6308 - mean_absolute_error: 29.1262 - score_metric: 1.0351 - lr: 0.0010 - val_loss: 28.1753 - val_mean_absolute_error: 28.6714 - val_score_metric: 0.8602 - val_lr: 0.0010\n",
      "Epoch 49/75\n",
      "44/44 [==============================] - 4s 99ms/step - loss: 28.2455 - mean_absolute_error: 28.7400 - score_metric: 0.9922 - lr: 0.0010 - val_loss: 27.3056 - val_mean_absolute_error: 27.8018 - val_score_metric: 0.8234 - val_lr: 0.0010\n",
      "Epoch 50/75\n",
      "44/44 [==============================] - 4s 99ms/step - loss: 28.7865 - mean_absolute_error: 29.2824 - score_metric: 1.0590 - lr: 0.0010 - val_loss: 27.1662 - val_mean_absolute_error: 27.6629 - val_score_metric: 0.8209 - val_lr: 0.0010\n",
      "Epoch 51/75\n",
      "44/44 [==============================] - 4s 100ms/step - loss: 28.4275 - mean_absolute_error: 28.9230 - score_metric: 0.9901 - lr: 0.0010 - val_loss: 27.1777 - val_mean_absolute_error: 27.6737 - val_score_metric: 0.8141 - val_lr: 0.0010\n",
      "Epoch 52/75\n",
      "44/44 [==============================] - 4s 99ms/step - loss: 28.0399 - mean_absolute_error: 28.5341 - score_metric: 0.9911 - lr: 0.0010 - val_loss: 27.3200 - val_mean_absolute_error: 27.8159 - val_score_metric: 0.8294 - val_lr: 0.0010\n",
      "Epoch 53/75\n",
      "44/44 [==============================] - 4s 100ms/step - loss: 27.8697 - mean_absolute_error: 28.3652 - score_metric: 0.9659 - lr: 0.0010 - val_loss: 27.2118 - val_mean_absolute_error: 27.7080 - val_score_metric: 0.8146 - val_lr: 0.0010\n",
      "Epoch 54/75\n",
      "44/44 [==============================] - 5s 103ms/step - loss: 27.5493 - mean_absolute_error: 28.0439 - score_metric: 0.9756 - lr: 0.0010 - val_loss: 27.2575 - val_mean_absolute_error: 27.7516 - val_score_metric: 0.8139 - val_lr: 0.0010\n",
      "Epoch 55/75\n",
      "44/44 [==============================] - 5s 108ms/step - loss: 28.4777 - mean_absolute_error: 28.9722 - score_metric: 1.0016 - lr: 6.0000e-04 - val_loss: 27.1664 - val_mean_absolute_error: 27.6621 - val_score_metric: 0.8102 - val_lr: 0.0010\n",
      "Epoch 56/75\n",
      "44/44 [==============================] - 5s 106ms/step - loss: 28.2370 - mean_absolute_error: 28.7322 - score_metric: 0.9901 - lr: 6.0000e-04 - val_loss: 26.9950 - val_mean_absolute_error: 27.4892 - val_score_metric: 0.8158 - val_lr: 0.0010\n",
      "Epoch 57/75\n",
      "44/44 [==============================] - 5s 103ms/step - loss: 28.4503 - mean_absolute_error: 28.9466 - score_metric: 1.0120 - lr: 6.0000e-04 - val_loss: 27.0359 - val_mean_absolute_error: 27.5328 - val_score_metric: 0.8237 - val_lr: 0.0010\n",
      "Epoch 58/75\n",
      "44/44 [==============================] - 5s 110ms/step - loss: 27.7662 - mean_absolute_error: 28.2617 - score_metric: 0.9891 - lr: 6.0000e-04 - val_loss: 27.1623 - val_mean_absolute_error: 27.6599 - val_score_metric: 0.8203 - val_lr: 0.0010\n",
      "Epoch 59/75\n",
      "44/44 [==============================] - 5s 107ms/step - loss: 27.7418 - mean_absolute_error: 28.2363 - score_metric: 0.9708 - lr: 6.0000e-04 - val_loss: 27.0424 - val_mean_absolute_error: 27.5381 - val_score_metric: 0.8112 - val_lr: 0.0010\n",
      "Epoch 60/75\n",
      "44/44 [==============================] - 4s 101ms/step - loss: 28.2651 - mean_absolute_error: 28.7605 - score_metric: 1.0201 - lr: 6.0000e-04 - val_loss: 27.1965 - val_mean_absolute_error: 27.6895 - val_score_metric: 0.8109 - val_lr: 0.0010\n",
      "Epoch 61/75\n",
      "44/44 [==============================] - 5s 105ms/step - loss: 27.8972 - mean_absolute_error: 28.3927 - score_metric: 0.9965 - lr: 6.0000e-04 - val_loss: 27.0732 - val_mean_absolute_error: 27.5656 - val_score_metric: 0.8067 - val_lr: 0.0010\n",
      "Epoch 62/75\n",
      "44/44 [==============================] - 5s 103ms/step - loss: 26.9761 - mean_absolute_error: 27.4709 - score_metric: 0.9226 - lr: 6.0000e-04 - val_loss: 27.2657 - val_mean_absolute_error: 27.7605 - val_score_metric: 0.8503 - val_lr: 0.0010\n",
      "Epoch 63/75\n",
      "44/44 [==============================] - 4s 102ms/step - loss: 27.4454 - mean_absolute_error: 27.9414 - score_metric: 0.9477 - lr: 6.0000e-04 - val_loss: 27.4551 - val_mean_absolute_error: 27.9497 - val_score_metric: 0.8436 - val_lr: 0.0010\n",
      "Epoch 64/75\n",
      "44/44 [==============================] - 4s 102ms/step - loss: 27.3715 - mean_absolute_error: 27.8675 - score_metric: 0.9277 - lr: 6.0000e-04 - val_loss: 27.2623 - val_mean_absolute_error: 27.7559 - val_score_metric: 0.8260 - val_lr: 0.0010\n",
      "Epoch 65/75\n",
      "44/44 [==============================] - 4s 102ms/step - loss: 27.8958 - mean_absolute_error: 28.3912 - score_metric: 0.9557 - lr: 3.6000e-04 - val_loss: 27.2494 - val_mean_absolute_error: 27.7443 - val_score_metric: 0.8305 - val_lr: 0.0010\n",
      "Epoch 66/75\n",
      "44/44 [==============================] - 4s 101ms/step - loss: 27.2739 - mean_absolute_error: 27.7696 - score_metric: 0.9475 - lr: 3.6000e-04 - val_loss: 27.0085 - val_mean_absolute_error: 27.5033 - val_score_metric: 0.8102 - val_lr: 0.0010\n",
      "Epoch 67/75\n",
      "44/44 [==============================] - 4s 101ms/step - loss: 26.4246 - mean_absolute_error: 26.9218 - score_metric: 0.8880 - lr: 3.6000e-04 - val_loss: 27.4762 - val_mean_absolute_error: 27.9703 - val_score_metric: 0.8290 - val_lr: 0.0010\n",
      "Epoch 68/75\n",
      "44/44 [==============================] - 4s 102ms/step - loss: 27.2313 - mean_absolute_error: 27.7280 - score_metric: 0.9439 - lr: 3.6000e-04 - val_loss: 27.0417 - val_mean_absolute_error: 27.5361 - val_score_metric: 0.8182 - val_lr: 0.0010\n",
      "Epoch 69/75\n",
      "44/44 [==============================] - 4s 102ms/step - loss: 27.2275 - mean_absolute_error: 27.7229 - score_metric: 0.9237 - lr: 3.6000e-04 - val_loss: 26.8607 - val_mean_absolute_error: 27.3566 - val_score_metric: 0.8176 - val_lr: 0.0010\n",
      "Epoch 70/75\n",
      "44/44 [==============================] - 4s 100ms/step - loss: 26.7417 - mean_absolute_error: 27.2383 - score_metric: 0.8986 - lr: 3.6000e-04 - val_loss: 27.2352 - val_mean_absolute_error: 27.7303 - val_score_metric: 0.8227 - val_lr: 0.0010\n",
      "Epoch 71/75\n",
      "44/44 [==============================] - 5s 103ms/step - loss: 26.2363 - mean_absolute_error: 26.7319 - score_metric: 0.9349 - lr: 3.6000e-04 - val_loss: 26.9582 - val_mean_absolute_error: 27.4545 - val_score_metric: 0.8068 - val_lr: 0.0010\n",
      "Epoch 72/75\n",
      "44/44 [==============================] - 5s 108ms/step - loss: 26.1083 - mean_absolute_error: 26.6030 - score_metric: 0.8690 - lr: 3.6000e-04 - val_loss: 26.8386 - val_mean_absolute_error: 27.3342 - val_score_metric: 0.8062 - val_lr: 0.0010\n",
      "Epoch 73/75\n",
      "44/44 [==============================] - 5s 107ms/step - loss: 26.5362 - mean_absolute_error: 27.0331 - score_metric: 0.9094 - lr: 3.6000e-04 - val_loss: 26.7797 - val_mean_absolute_error: 27.2726 - val_score_metric: 0.7994 - val_lr: 0.0010\n",
      "Epoch 74/75\n",
      "44/44 [==============================] - 5s 104ms/step - loss: 26.6493 - mean_absolute_error: 27.1464 - score_metric: 0.9014 - lr: 3.6000e-04 - val_loss: 26.8183 - val_mean_absolute_error: 27.3147 - val_score_metric: 0.8049 - val_lr: 0.0010\n",
      "Epoch 75/75\n",
      "44/44 [==============================] - 5s 104ms/step - loss: 26.9089 - mean_absolute_error: 27.4034 - score_metric: 0.9233 - lr: 3.6000e-04 - val_loss: 26.8957 - val_mean_absolute_error: 27.3919 - val_score_metric: 0.8135 - val_lr: 0.0010\n",
      "11/11 [==============================] - 0s 31ms/step - loss: 26.8957 - mean_absolute_error: 27.3919 - score_metric: 0.8135 - lr: 0.0010\n",
      "11/11 [==============================] - 0s 16ms/step\n"
     ]
    },
    {
     "ename": "ResourceExhaustedError",
     "evalue": "Exception encountered when calling layer \"conv2d_29\" \"                 f\"(type Conv2D).\n\n{{function_node __wrapped__Conv2D_device_/job:localhost/replica:0/task:0/device:GPU:0}} OOM when allocating tensor with shape[1024,512,5,5] and type float on /job:localhost/replica:0/task:0/device:GPU:0 by allocator GPU_0_bfc [Op:Conv2D]\n\nCall arguments received by layer \"conv2d_29\" \"                 f\"(type Conv2D):\n  • inputs=tf.Tensor(shape=(32, 2, 2, 512), dtype=float32)",
     "output_type": "error",
     "traceback": [
      "\u001b[1;31m---------------------------------------------------------------------------\u001b[0m",
      "\u001b[1;31mResourceExhaustedError\u001b[0m                    Traceback (most recent call last)",
      "\u001b[1;32mc:\\Users\\Wiktor\\Desktop\\Praca Magisterska\\Thesis Code\\src\\experiment4.ipynb Cell 4\u001b[0m line \u001b[0;36m4\n\u001b[0;32m      <a href='vscode-notebook-cell:/c%3A/Users/Wiktor/Desktop/Praca%20Magisterska/Thesis%20Code/src/experiment4.ipynb#W3sZmlsZQ%3D%3D?line=0'>1</a>\u001b[0m \u001b[39mfrom\u001b[39;00m \u001b[39mModelExperiment\u001b[39;00m \u001b[39mimport\u001b[39;00m ModelExperiment\n\u001b[0;32m      <a href='vscode-notebook-cell:/c%3A/Users/Wiktor/Desktop/Praca%20Magisterska/Thesis%20Code/src/experiment4.ipynb#W3sZmlsZQ%3D%3D?line=2'>3</a>\u001b[0m experiment \u001b[39m=\u001b[39m ModelExperiment()\n\u001b[1;32m----> <a href='vscode-notebook-cell:/c%3A/Users/Wiktor/Desktop/Praca%20Magisterska/Thesis%20Code/src/experiment4.ipynb#W3sZmlsZQ%3D%3D?line=3'>4</a>\u001b[0m experiment\u001b[39m.\u001b[39;49mrun_experiment(\n\u001b[0;32m      <a href='vscode-notebook-cell:/c%3A/Users/Wiktor/Desktop/Praca%20Magisterska/Thesis%20Code/src/experiment4.ipynb#W3sZmlsZQ%3D%3D?line=4'>5</a>\u001b[0m     params_vector\u001b[39m=\u001b[39;49m[params_cnn2d_task2],\n\u001b[0;32m      <a href='vscode-notebook-cell:/c%3A/Users/Wiktor/Desktop/Praca%20Magisterska/Thesis%20Code/src/experiment4.ipynb#W3sZmlsZQ%3D%3D?line=5'>6</a>\u001b[0m     data\u001b[39m=\u001b[39;49m[all_data_Mg],\n\u001b[0;32m      <a href='vscode-notebook-cell:/c%3A/Users/Wiktor/Desktop/Praca%20Magisterska/Thesis%20Code/src/experiment4.ipynb#W3sZmlsZQ%3D%3D?line=6'>7</a>\u001b[0m     gt\u001b[39m=\u001b[39;49m[gt[\u001b[39m\"\u001b[39;49m\u001b[39mMg\u001b[39;49m\u001b[39m\"\u001b[39;49m]\u001b[39m.\u001b[39;49mvalues],\n\u001b[0;32m      <a href='vscode-notebook-cell:/c%3A/Users/Wiktor/Desktop/Praca%20Magisterska/Thesis%20Code/src/experiment4.ipynb#W3sZmlsZQ%3D%3D?line=7'>8</a>\u001b[0m     folds\u001b[39m=\u001b[39;49mfolds,\n\u001b[0;32m      <a href='vscode-notebook-cell:/c%3A/Users/Wiktor/Desktop/Praca%20Magisterska/Thesis%20Code/src/experiment4.ipynb#W3sZmlsZQ%3D%3D?line=8'>9</a>\u001b[0m     test_data\u001b[39m=\u001b[39;49m[test_data_Mg]\n\u001b[0;32m     <a href='vscode-notebook-cell:/c%3A/Users/Wiktor/Desktop/Praca%20Magisterska/Thesis%20Code/src/experiment4.ipynb#W3sZmlsZQ%3D%3D?line=9'>10</a>\u001b[0m )\n",
      "File \u001b[1;32mc:\\Users\\Wiktor\\Desktop\\Praca Magisterska\\Thesis Code\\src\\ModelExperiment.py:139\u001b[0m, in \u001b[0;36mModelExperiment.run_experiment\u001b[1;34m(self, params_vector, data, gt, test_data, folds)\u001b[0m\n\u001b[0;32m    136\u001b[0m     \u001b[39melse\u001b[39;00m:\n\u001b[0;32m    137\u001b[0m         prepare_function \u001b[39m=\u001b[39m params\u001b[39m.\u001b[39mprepare_function\n\u001b[1;32m--> 139\u001b[0m     flow\u001b[39m.\u001b[39;49mcross_val(\n\u001b[0;32m    140\u001b[0m         data[index], gt[index], prepare_function, test_data[index], folds\n\u001b[0;32m    141\u001b[0m     )\n\u001b[0;32m    142\u001b[0m     \u001b[39mself\u001b[39m\u001b[39m.\u001b[39mmodels\u001b[39m.\u001b[39mappend(flow)\n\u001b[0;32m    144\u001b[0m \u001b[39mreturn\u001b[39;00m \u001b[39mself\u001b[39m\u001b[39m.\u001b[39mmodels\n",
      "File \u001b[1;32mc:\\Users\\Wiktor\\Desktop\\Praca Magisterska\\Thesis Code\\src\\flow\\ModelFlow.py:163\u001b[0m, in \u001b[0;36mModelFlow.cross_val\u001b[1;34m(self, data, labels, prepare_function, test_data, folds)\u001b[0m\n\u001b[0;32m    161\u001b[0m val_prediction \u001b[39m=\u001b[39m \u001b[39mself\u001b[39m\u001b[39m.\u001b[39mpredict(val_data)\n\u001b[0;32m    162\u001b[0m start_time \u001b[39m=\u001b[39m time\u001b[39m.\u001b[39mtime()\n\u001b[1;32m--> 163\u001b[0m test_prediction \u001b[39m=\u001b[39m \u001b[39mself\u001b[39;49m\u001b[39m.\u001b[39;49mpredict(prepare_function(test_data, \u001b[39mTrue\u001b[39;49;00m))\n\u001b[0;32m    164\u001b[0m predict_times\u001b[39m.\u001b[39mappend(time\u001b[39m.\u001b[39mtime() \u001b[39m-\u001b[39m start_time)\n\u001b[0;32m    166\u001b[0m \u001b[39m# calculate data for sample error report\u001b[39;00m\n",
      "File \u001b[1;32mc:\\Users\\Wiktor\\Desktop\\Praca Magisterska\\Thesis Code\\src\\flow\\NeuralNetworkFlow.py:73\u001b[0m, in \u001b[0;36mNeuralNetworkFlow.predict\u001b[1;34m(self, data)\u001b[0m\n\u001b[0;32m     71\u001b[0m \u001b[39mif\u001b[39;00m \u001b[39mself\u001b[39m\u001b[39m.\u001b[39mmodel \u001b[39m==\u001b[39m \u001b[39mNone\u001b[39;00m:\n\u001b[0;32m     72\u001b[0m     \u001b[39mreturn\u001b[39;00m\n\u001b[1;32m---> 73\u001b[0m predicted \u001b[39m=\u001b[39m \u001b[39mself\u001b[39;49m\u001b[39m.\u001b[39;49mmodel\u001b[39m.\u001b[39;49mpredict(data)\n\u001b[0;32m     74\u001b[0m \u001b[39mreturn\u001b[39;00m predicted\u001b[39m.\u001b[39mreshape(\u001b[39m-\u001b[39m\u001b[39m1\u001b[39m)\n",
      "File \u001b[1;32mc:\\ProgramData\\Anaconda3\\envs\\thesis\\lib\\site-packages\\keras\\utils\\traceback_utils.py:70\u001b[0m, in \u001b[0;36mfilter_traceback.<locals>.error_handler\u001b[1;34m(*args, **kwargs)\u001b[0m\n\u001b[0;32m     67\u001b[0m     filtered_tb \u001b[39m=\u001b[39m _process_traceback_frames(e\u001b[39m.\u001b[39m__traceback__)\n\u001b[0;32m     68\u001b[0m     \u001b[39m# To get the full stack trace, call:\u001b[39;00m\n\u001b[0;32m     69\u001b[0m     \u001b[39m# `tf.debugging.disable_traceback_filtering()`\u001b[39;00m\n\u001b[1;32m---> 70\u001b[0m     \u001b[39mraise\u001b[39;00m e\u001b[39m.\u001b[39mwith_traceback(filtered_tb) \u001b[39mfrom\u001b[39;00m \u001b[39mNone\u001b[39;00m\n\u001b[0;32m     71\u001b[0m \u001b[39mfinally\u001b[39;00m:\n\u001b[0;32m     72\u001b[0m     \u001b[39mdel\u001b[39;00m filtered_tb\n",
      "File \u001b[1;32m~\\AppData\\Roaming\\Python\\Python39\\site-packages\\tensorflow\\python\\framework\\ops.py:7209\u001b[0m, in \u001b[0;36mraise_from_not_ok_status\u001b[1;34m(e, name)\u001b[0m\n\u001b[0;32m   7207\u001b[0m \u001b[39mdef\u001b[39;00m \u001b[39mraise_from_not_ok_status\u001b[39m(e, name):\n\u001b[0;32m   7208\u001b[0m   e\u001b[39m.\u001b[39mmessage \u001b[39m+\u001b[39m\u001b[39m=\u001b[39m (\u001b[39m\"\u001b[39m\u001b[39m name: \u001b[39m\u001b[39m\"\u001b[39m \u001b[39m+\u001b[39m name \u001b[39mif\u001b[39;00m name \u001b[39mis\u001b[39;00m \u001b[39mnot\u001b[39;00m \u001b[39mNone\u001b[39;00m \u001b[39melse\u001b[39;00m \u001b[39m\"\u001b[39m\u001b[39m\"\u001b[39m)\n\u001b[1;32m-> 7209\u001b[0m   \u001b[39mraise\u001b[39;00m core\u001b[39m.\u001b[39m_status_to_exception(e) \u001b[39mfrom\u001b[39;00m \u001b[39mNone\u001b[39;00m\n",
      "\u001b[1;31mResourceExhaustedError\u001b[0m: Exception encountered when calling layer \"conv2d_29\" \"                 f\"(type Conv2D).\n\n{{function_node __wrapped__Conv2D_device_/job:localhost/replica:0/task:0/device:GPU:0}} OOM when allocating tensor with shape[1024,512,5,5] and type float on /job:localhost/replica:0/task:0/device:GPU:0 by allocator GPU_0_bfc [Op:Conv2D]\n\nCall arguments received by layer \"conv2d_29\" \"                 f\"(type Conv2D):\n  • inputs=tf.Tensor(shape=(32, 2, 2, 512), dtype=float32)"
     ]
    }
   ],
   "source": [
    "from ModelExperiment import ModelExperiment\n",
    "\n",
    "experiment = ModelExperiment()\n",
    "experiment.run_experiment(\n",
    "    params_vector=[params_cnn2d_task2],\n",
    "    data=[all_data_Mg],\n",
    "    gt=[gt[\"Mg\"].values],\n",
    "    folds=folds,\n",
    "    test_data=[test_data_Mg]\n",
    ")"
   ]
  },
  {
   "cell_type": "code",
   "execution_count": 7,
   "metadata": {},
   "outputs": [
    {
     "name": "stdout",
     "output_type": "stream",
     "text": [
      "(1154,)\n"
     ]
    }
   ],
   "source": [
    "res=  np.array(experiment.models[0].predicted_test_values)\n",
    "print(res.shape)\n",
    "np.save(\"./predict/Mg\",res)"
   ]
  },
  {
   "cell_type": "code",
   "execution_count": 5,
   "metadata": {},
   "outputs": [
    {
     "ename": "IndexError",
     "evalue": "list index out of range",
     "output_type": "error",
     "traceback": [
      "\u001b[1;31m---------------------------------------------------------------------------\u001b[0m",
      "\u001b[1;31mIndexError\u001b[0m                                Traceback (most recent call last)",
      "\u001b[1;32mc:\\Users\\Wiktor\\Desktop\\Praca Magisterska\\Thesis Code\\src\\experiment4.ipynb Cell 6\u001b[0m line \u001b[0;36m2\n\u001b[0;32m      <a href='vscode-notebook-cell:/c%3A/Users/Wiktor/Desktop/Praca%20Magisterska/Thesis%20Code/src/experiment4.ipynb#W5sZmlsZQ%3D%3D?line=0'>1</a>\u001b[0m experiment\u001b[39m.\u001b[39mmodels[\u001b[39m0\u001b[39m]\u001b[39m.\u001b[39msave_history(\u001b[39m'\u001b[39m\u001b[39m./experiment4/test6_Mg.csv\u001b[39m\u001b[39m'\u001b[39m)\n\u001b[1;32m----> <a href='vscode-notebook-cell:/c%3A/Users/Wiktor/Desktop/Praca%20Magisterska/Thesis%20Code/src/experiment4.ipynb#W5sZmlsZQ%3D%3D?line=1'>2</a>\u001b[0m experiment\u001b[39m.\u001b[39;49mmodels[\u001b[39m1\u001b[39;49m]\u001b[39m.\u001b[39msave_history(\u001b[39m'\u001b[39m\u001b[39m./experiment4/test5_P.csv\u001b[39m\u001b[39m'\u001b[39m)\n\u001b[0;32m      <a href='vscode-notebook-cell:/c%3A/Users/Wiktor/Desktop/Praca%20Magisterska/Thesis%20Code/src/experiment4.ipynb#W5sZmlsZQ%3D%3D?line=2'>3</a>\u001b[0m experiment\u001b[39m.\u001b[39mmodels[\u001b[39m2\u001b[39m]\u001b[39m.\u001b[39msave_history(\u001b[39m'\u001b[39m\u001b[39m./experiment4/test5_Mg.csv\u001b[39m\u001b[39m'\u001b[39m)\n",
      "\u001b[1;31mIndexError\u001b[0m: list index out of range"
     ]
    }
   ],
   "source": [
    "\n",
    "experiment.models[0].save_history('./experiment4/test6_Mg.csv')\n",
    "experiment.models[1].save_history('./experiment4/test5_P.csv')\n",
    "experiment.models[2].save_history('./experiment4/test5_Mg.csv')"
   ]
  },
  {
   "cell_type": "code",
   "execution_count": 6,
   "metadata": {},
   "outputs": [],
   "source": [
    "experiment.get_errors_report('./experiment4/test6_error_Mg.csv')"
   ]
  },
  {
   "cell_type": "code",
   "execution_count": 5,
   "metadata": {},
   "outputs": [
    {
     "name": "stdout",
     "output_type": "stream",
     "text": [
      "[0.86320454 0.76834422 0.90670264 0.92669553 0.93989766]\n",
      "[1. 1. 1. 1. 1.]\n",
      "[0.001 0.001 0.001 0.001 0.001]\n"
     ]
    }
   ],
   "source": [
    "print(experiment.models[0].crossval_scores)\n",
    "print(experiment.models[0].crossval_rs)\n",
    "print(experiment.models[0].mae)"
   ]
  },
  {
   "cell_type": "code",
   "execution_count": null,
   "metadata": {},
   "outputs": [
    {
     "name": "stdout",
     "output_type": "stream",
     "text": [
      "[0.92924521 0.93309339 0.90434612 0.91175416 0.97988553]\n",
      "[0.07072827 0.06497107 0.09564543 0.08582077 0.02011335]\n",
      "[0.19262939 0.19733602 0.19221746 0.18549364 0.19679249]\n"
     ]
    }
   ],
   "source": [
    "print(experiment.models[5].crossval_scores)\n",
    "print(experiment.models[5].crossval_rs)\n",
    "print(experiment.models[5].mae)"
   ]
  }
 ],
 "metadata": {
  "kernelspec": {
   "display_name": "thesis",
   "language": "python",
   "name": "python3"
  },
  "language_info": {
   "codemirror_mode": {
    "name": "ipython",
    "version": 3
   },
   "file_extension": ".py",
   "mimetype": "text/x-python",
   "name": "python",
   "nbconvert_exporter": "python",
   "pygments_lexer": "ipython3",
   "version": "3.9.16"
  }
 },
 "nbformat": 4,
 "nbformat_minor": 2
}
