{
 "cells": [
  {
   "cell_type": "code",
   "execution_count": null,
   "metadata": {},
   "outputs": [],
   "source": [
    "%load_ext autoreload\n",
    "%autoreload 2\n",
    "import tensorflow as tf"
   ]
  },
  {
   "cell_type": "code",
   "execution_count": null,
   "metadata": {},
   "outputs": [],
   "source": [
    "import numpy as np\n",
    "from loader.CSVLoader import csv_loader\n",
    "\n",
    "gt,wave = csv_loader()\n",
    "\n",
    "#Load data for every element\n",
    "name=\"example\"\n",
    "\n",
    "all_data_k = np.load(f\"./experiment/{name}_K.npy\")\n",
    "test_data_k = np.load(f'./experiment/{name}_K_test.npy')\n",
    "\n",
    "all_data_p = np.load(f\"./experiment/{name}_P.npy\")\n",
    "test_data_p = np.load(f'./experiment/{name}_P_test.npy')\n",
    "\n",
    "all_data_Mg = np.load(f\"./experiment/{name}_Mg.npy\")\n",
    "test_data_Mg = np.load(f'./experiment/{name}_Mg_test.npy')\n",
    "\n",
    "all_data_pH = np.load(f\"./experiment/{name}_pH.npy\")\n",
    "test_data_pH = np.load(f'./experiment/{name}_pH_test.npy')"
   ]
  },
  {
   "cell_type": "code",
   "execution_count": null,
   "metadata": {},
   "outputs": [],
   "source": [
    "from creators.CNN3DCreator import  CNN3DNetworkParams\n",
    "from creators.ModelParams import Conv2DParams, Conv3DParams, DeepLayerParams, FlattenParams, GenericNeuralNetworkParams\n",
    "from creators.CNN2DCreator import  CNN2DNetworkParams\n",
    "from prep.HelperBlocks import pipe\n",
    "\n",
    "from prep.Normlize import normalize_layers\n",
    "\n",
    "drop=0.5\n",
    "epochs=50\n",
    "optimizer = tf.keras.optimizers.Adam\n",
    "folds = 4\n",
    "\n",
    "#define a model using any Params from './creators'\n",
    "params_cnn2d = CNN2DNetworkParams(\n",
    "    conv=[Conv2DParams(kernel=(5,5),pool_size=(2,2),filters=64,normalization=True,activation=\"relu\", dropout=drop),\n",
    "          Conv2DParams(kernel=(3,3),pool_size=(2,2),filters=512, normalization=True,activation=\"relu\", dropout=drop),\n",
    "          Conv2DParams(kernel=(2,2),pool_size=(2,2),filters=1024, normalization=True,activation=\"relu\", dropout=drop),\n",
    "          ],\n",
    "    flatten=FlattenParams(dropout=drop,normalization=True),\n",
    "    deep=[DeepLayerParams(neurons=1000,dropout=drop,normalization=True),\n",
    "          DeepLayerParams(neurons=400,dropout=drop,normalization=True)],\n",
    "    generic=GenericNeuralNetworkParams(\n",
    "        prepare_function=lambda data, is_test: pipe(data,[\n",
    "            lambda d: d]), \n",
    "        epochs=epochs,\n",
    "        optimizer=optimizer\n",
    "        )\n",
    ")\n",
    "\n",
    "params_cnn3d = CNN3DNetworkParams(\n",
    "    conv=[Conv3DParams(kernel=(10,10,1),pool_size=(10,10,1),filters=32,normalization=True,activation=\"relu\", dropout=drop),\n",
    "          Conv3DParams(kernel=(1,1,15),pool_size=(1,1,15),filters=128, normalization=True,activation=\"relu\", dropout=drop),\n",
    "          ],\n",
    "    flatten=FlattenParams(dropout=drop,normalization=True),\n",
    "    deep=[DeepLayerParams(neurons=1000,dropout=drop,normalization=True),\n",
    "          DeepLayerParams(neurons=400,dropout=drop,normalization=True)],\n",
    "    generic=GenericNeuralNetworkParams(\n",
    "        prepare_function=lambda data, is_test: pipe(data,[\n",
    "            lambda d: np.expand_dims(d, axis=-1),\n",
    "        ]),\n",
    "        epochs=epochs,\n",
    "        optimizer=optimizer\n",
    "        )\n",
    ")"
   ]
  },
  {
   "cell_type": "code",
   "execution_count": null,
   "metadata": {},
   "outputs": [],
   "source": [
    "from ModelExperiment import ModelExperiment\n",
    "\n",
    "#run the experiment using data+models\n",
    "experiment = ModelExperiment()\n",
    "experiment.run_experiment(\n",
    "    params_vector=[params_cnn2d,params_cnn3d,params_cnn2d,params_cnn3d],\n",
    "    data=[all_data_k,all_data_k,all_data_p,all_data_p],\n",
    "    gt=[gt[\"K\"].values,gt[\"K\"].values,gt[\"P\"].values,gt[\"P\"].values],\n",
    "    folds=folds,\n",
    "    test_data=[test_data_k,test_data_k,test_data_p,test_data_p]\n",
    ")"
   ]
  },
  {
   "cell_type": "code",
   "execution_count": null,
   "metadata": {},
   "outputs": [],
   "source": [
    "#save history of a selected model\n",
    "experiment.models[0].save_history('./history1.csv')"
   ]
  },
  {
   "cell_type": "code",
   "execution_count": null,
   "metadata": {},
   "outputs": [],
   "source": [
    "#get errors report\n",
    "experiment.get_errors_report('./errors1.csv')"
   ]
  },
  {
   "cell_type": "code",
   "execution_count": null,
   "metadata": {},
   "outputs": [],
   "source": [
    "#read times of operations\n",
    "print(experiment.models[0].last_crossval_predict_time)\n",
    "print(experiment.models[0].last_crossval_fit_time)"
   ]
  },
  {
   "cell_type": "code",
   "execution_count": null,
   "metadata": {},
   "outputs": [],
   "source": [
    "#read statistics\n",
    "print(experiment.models[0].crossval_rs)"
   ]
  }
 ],
 "metadata": {
  "language_info": {
   "name": "python"
  }
 },
 "nbformat": 4,
 "nbformat_minor": 2
}
