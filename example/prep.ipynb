{
 "cells": [
  {
   "cell_type": "code",
   "execution_count": null,
   "metadata": {},
   "outputs": [],
   "source": [
    "%load_ext autoreload\n",
    "%autoreload 2"
   ]
  },
  {
   "cell_type": "code",
   "execution_count": null,
   "metadata": {},
   "outputs": [],
   "source": [
    "from loader.TrainValLoader import train_val_loader\n",
    "from loader.CSVLoader import csv_loader\n",
    "from loader.TestLoader import test_loader\n",
    "layers = 45\n",
    "#load the data\n",
    "gt,wave = csv_loader()\n",
    "all_data = train_val_loader()\n",
    "all_data_test = test_loader()"
   ]
  },
  {
   "cell_type": "code",
   "execution_count": null,
   "metadata": {},
   "outputs": [],
   "source": [
    "import numpy as np\n",
    "from prep.ResizeBlock import make_resize_block\n",
    "from prep.HelperBlocks import pipe\n",
    "from prep.SmoothDerivativeBlock import savgol_block\n",
    "\n",
    "#define processing for images\n",
    "transform_set1 = lambda d, is_test: pipe(d,[\n",
    "    make_resize_block(16, pre_fill=0, order=0),\n",
    "    lambda d: savgol_block(d,5,2,1,2),\n",
    "    lambda d: np.ma.filled(d,0)\n",
    "]) \n",
    "\n",
    "transform_set2 = lambda d, is_test: pipe(d,[\n",
    "    make_resize_block(24, pre_fill=0, order=0),\n",
    "    lambda d: savgol_block(d,5,2,1,2),\n",
    "    lambda d: np.ma.filled(d,0)\n",
    "]) "
   ]
  },
  {
   "cell_type": "code",
   "execution_count": null,
   "metadata": {},
   "outputs": [],
   "source": [
    "#use layer selection methods in a following manner\n",
    "from selMethods.SpearmanCor import spearman_method\n",
    "\n",
    "\n",
    "transformed1, transform_next, indices = spearman_method(transform_set1(all_data,False),gt[\"K\"],final_count=30)\n",
    "transformed_test1 = transform_next(transform_set1(all_data_test,True))\n",
    "\n",
    "transformed2, transform_next, indices = spearman_method(transform_set2(all_data,False),gt[\"P\"],final_count=30)\n",
    "transformed_test2 = transform_next(transform_set2(all_data_test,True))"
   ]
  },
  {
   "cell_type": "code",
   "execution_count": null,
   "metadata": {},
   "outputs": [],
   "source": [
    "#save results\n",
    "np.save(f\"./experiment/test_K\",transformed1)\n",
    "np.save(f\"./experiment/test_K_test\",transformed_test1)"
   ]
  }
 ],
 "metadata": {
  "language_info": {
   "name": "python"
  }
 },
 "nbformat": 4,
 "nbformat_minor": 2
}
