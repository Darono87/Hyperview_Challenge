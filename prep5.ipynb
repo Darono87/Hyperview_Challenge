{
 "cells": [
  {
   "cell_type": "code",
   "execution_count": 1,
   "metadata": {},
   "outputs": [],
   "source": [
    "%load_ext autoreload\n",
    "%autoreload 2"
   ]
  },
  {
   "cell_type": "code",
   "execution_count": 2,
   "metadata": {},
   "outputs": [],
   "source": [
    "from loader.TrainValLoader import train_val_loader\n",
    "from loader.CSVLoader import csv_loader\n",
    "from loader.TestLoader import test_loader\n",
    "\n",
    "gt,wave = csv_loader()\n",
    "all_data = train_val_loader()\n",
    "all_data_test = test_loader()"
   ]
  },
  {
   "cell_type": "code",
   "execution_count": 15,
   "metadata": {},
   "outputs": [],
   "source": [
    "import numpy as np\n",
    "from prep.BM3DBlock import bm3d_block\n",
    "from prep.Normlize import normalize_layers\n",
    "from prep.ReducerBlocks import mean_1d_block, quantiles_block\n",
    "from prep.WaveletBlock import wavelet_transform, wavelet_transform1d\n",
    "from prep.ContinuumRemovalBlock import continuum_removal, continuum_removal1d\n",
    "from prep.GaussianBlock import gaussian_block, gaussian_block1d\n",
    "from prep.ResizeBlock import make_resize_block\n",
    "from prep.HelperBlocks import pipe\n",
    "from prep.PCABlock import pca_block\n",
    "from prep.SpectralIndexes import calc_indexes\n",
    "from prep.SmoothDerivativeBlock import savgol_block, savgol_block1d\n",
    "from selMethods.FCBF import fcbf_method\n",
    "from selMethods.LowestInterCor import lowest_inter_cor_method\n",
    "from selMethods.MutualInfo import mutual_info_method\n",
    "from selMethods.SpearmanCor import spearman_method\n",
    "from selMethods.reliefF import reliefF_method\n",
    "\n",
    "def process_best_parrarel(d):\n",
    "    cr = continuum_removal1d(d)\n",
    "    sg = savgol_block1d(d,11,2,2,1)\n",
    "    #dwt = wavelet_transform1d(d,\"dmey\",result_wave_count=210)\n",
    "    return np.concatenate([cr,sg],axis=1)\n",
    "\n",
    "\n",
    "test_1 = lambda d, is_test: pipe(d,[\n",
    "    mean_1d_block,\n",
    "    process_best_parrarel,\n",
    "])\n",
    "\n"
   ]
  },
  {
   "cell_type": "code",
   "execution_count": 16,
   "metadata": {},
   "outputs": [],
   "source": [
    "transform_function = test_1\n",
    "name=\"cr_sg_dwt\"\n",
    "np.save(f\"./experiment5/{name}\",transform_function(all_data,False))\n",
    "np.save(f\"./experiment5/{name}_test\",transform_function(all_data_test,True))"
   ]
  }
 ],
 "metadata": {
  "kernelspec": {
   "display_name": "thesis",
   "language": "python",
   "name": "python3"
  },
  "language_info": {
   "codemirror_mode": {
    "name": "ipython",
    "version": 3
   },
   "file_extension": ".py",
   "mimetype": "text/x-python",
   "name": "python",
   "nbconvert_exporter": "python",
   "pygments_lexer": "ipython3",
   "version": "3.9.16"
  },
  "orig_nbformat": 4
 },
 "nbformat": 4,
 "nbformat_minor": 2
}
