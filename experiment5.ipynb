{
 "cells": [
  {
   "cell_type": "code",
   "execution_count": 1,
   "metadata": {},
   "outputs": [
    {
     "name": "stderr",
     "output_type": "stream",
     "text": [
      "c:\\ProgramData\\Anaconda3\\envs\\thesis\\lib\\site-packages\\h5py\\__init__.py:36: UserWarning: h5py is running against HDF5 1.12.2 when it was built against 1.12.1, this may cause problems\n",
      "  _warn((\"h5py is running against HDF5 {0} when it was built against {1}, \"\n"
     ]
    },
    {
     "data": {
      "text/plain": [
       "[PhysicalDevice(name='/physical_device:CPU:0', device_type='CPU'),\n",
       " PhysicalDevice(name='/physical_device:GPU:0', device_type='GPU')]"
      ]
     },
     "execution_count": 1,
     "metadata": {},
     "output_type": "execute_result"
    }
   ],
   "source": [
    "%load_ext autoreload\n",
    "%autoreload 2\n",
    "import tensorflow as tf\n",
    "\n",
    "tf.config.list_physical_devices()"
   ]
  },
  {
   "cell_type": "code",
   "execution_count": 2,
   "metadata": {},
   "outputs": [
    {
     "data": {
      "text/plain": [
       "(1732, 300)"
      ]
     },
     "execution_count": 2,
     "metadata": {},
     "output_type": "execute_result"
    }
   ],
   "source": [
    "import numpy as np\n",
    "from loader.CSVLoader import csv_loader\n",
    "\n",
    "gt,wave = csv_loader()\n",
    "\n",
    "name=\"cr_sg_dwt\"\n",
    "\n",
    "all_data = np.load(f\"./experiment5/{name}.npy\")\n",
    "test_data = np.load(f'./experiment5/{name}_test.npy')\n",
    "\n",
    "\n",
    "all_data.shape"
   ]
  },
  {
   "cell_type": "code",
   "execution_count": 3,
   "metadata": {},
   "outputs": [],
   "source": [
    "from creators.CNN3DCreator import  CNN3DNetworkParams\n",
    "from creators.CRNNCreator import CRNNNetworkParams\n",
    "from creators.ModelParams import ConvolutionalRecurrentLayerParams, Conv1DParams, Conv2DParams, Conv3DParams, DeepLayerParams, FlattenParams, GenericNeuralNetworkParams, RandomForestParams, RecurrentLayerParams, SVRParams\n",
    "from creators.CNN1DCreator import  CNN1DNetworkParams\n",
    "from creators.CNN2DCreator import  CNN2DNetworkParams\n",
    "from creators.CLSTMCreator import CLSTMNetworkParams\n",
    "from prep.HelperBlocks import pipe, split_3d_to_timeseries\n",
    "import tensorflow as tf\n",
    "from prep.MSCBlock import msc_block, msc_block1d\n",
    "\n",
    "from prep.Normlize import normalize_layers\n",
    "\n",
    "drop=0.53\n",
    "epochs=150\n",
    "optimizer = tf.keras.optimizers.Adam\n",
    "folds = 5\n",
    "params_rf = RandomForestParams(lambda data, is_test: normalize_layers(data,not is_test))"
   ]
  },
  {
   "cell_type": "code",
   "execution_count": 5,
   "metadata": {},
   "outputs": [
    {
     "name": "stderr",
     "output_type": "stream",
     "text": [
      "c:\\Users\\Wiktor\\Desktop\\Praca Magisterska\\Thesis Code\\src\\prep\\Normlize.py:9: RuntimeWarning: invalid value encountered in divide\n",
      "  input_data = (\n",
      "c:\\Users\\Wiktor\\Desktop\\Praca Magisterska\\Thesis Code\\src\\prep\\Normlize.py:9: RuntimeWarning: invalid value encountered in divide\n",
      "  input_data = (\n",
      "c:\\Users\\Wiktor\\Desktop\\Praca Magisterska\\Thesis Code\\src\\prep\\Normlize.py:9: RuntimeWarning: invalid value encountered in divide\n",
      "  input_data = (\n",
      "c:\\Users\\Wiktor\\Desktop\\Praca Magisterska\\Thesis Code\\src\\prep\\Normlize.py:9: RuntimeWarning: invalid value encountered in divide\n",
      "  input_data = (\n",
      "c:\\Users\\Wiktor\\Desktop\\Praca Magisterska\\Thesis Code\\src\\prep\\Normlize.py:9: RuntimeWarning: invalid value encountered in divide\n",
      "  input_data = (\n",
      "c:\\Users\\Wiktor\\Desktop\\Praca Magisterska\\Thesis Code\\src\\prep\\Normlize.py:9: RuntimeWarning: invalid value encountered in divide\n",
      "  input_data = (\n",
      "c:\\Users\\Wiktor\\Desktop\\Praca Magisterska\\Thesis Code\\src\\prep\\Normlize.py:9: RuntimeWarning: invalid value encountered in divide\n",
      "  input_data = (\n",
      "c:\\Users\\Wiktor\\Desktop\\Praca Magisterska\\Thesis Code\\src\\prep\\Normlize.py:9: RuntimeWarning: invalid value encountered in divide\n",
      "  input_data = (\n",
      "c:\\Users\\Wiktor\\Desktop\\Praca Magisterska\\Thesis Code\\src\\prep\\Normlize.py:9: RuntimeWarning: invalid value encountered in divide\n",
      "  input_data = (\n",
      "c:\\Users\\Wiktor\\Desktop\\Praca Magisterska\\Thesis Code\\src\\prep\\Normlize.py:9: RuntimeWarning: invalid value encountered in divide\n",
      "  input_data = (\n"
     ]
    },
    {
     "data": {
      "text/plain": [
       "[<flow.ClassicalModelFlow.ClassicalModelFlow at 0x19de2a17f70>]"
      ]
     },
     "execution_count": 5,
     "metadata": {},
     "output_type": "execute_result"
    }
   ],
   "source": [
    "from ModelExperiment import ModelExperiment\n",
    "\n",
    "experiment = ModelExperiment()\n",
    "experiment.run_experiment(\n",
    "    params_vector=[params_rf],\n",
    "    data=[all_data],\n",
    "    gt=[gt[\"pH\"].values],\n",
    "    folds=folds,\n",
    "    test_data=[test_data]\n",
    ")"
   ]
  },
  {
   "cell_type": "code",
   "execution_count": 25,
   "metadata": {},
   "outputs": [],
   "source": [
    "\n",
    "experiment.models[0].save_history('./experiment5/test2_K.csv')\n",
    "experiment.models[1].save_history('./experiment5/test2_P.csv')\n",
    "experiment.models[2].save_history('./experiment5/test2_Mg.csv')"
   ]
  },
  {
   "cell_type": "code",
   "execution_count": 26,
   "metadata": {},
   "outputs": [],
   "source": [
    "experiment.get_errors_report('./experiment5/test_2.csv')"
   ]
  },
  {
   "cell_type": "code",
   "execution_count": 10,
   "metadata": {},
   "outputs": [
    {
     "name": "stdout",
     "output_type": "stream",
     "text": [
      "[0.83413439 0.81692079 0.80476689 0.80205568 0.8377336 ]\n",
      "[0.16584181 0.18138464 0.19522559 0.19581103 0.16226544]\n",
      "[0.18193718 0.18102398 0.17812185 0.17198867 0.18366844]\n"
     ]
    },
    {
     "data": {
      "text/plain": [
       "0.8191222688814566"
      ]
     },
     "execution_count": 10,
     "metadata": {},
     "output_type": "execute_result"
    }
   ],
   "source": [
    "print(experiment.models[0].crossval_scores)\n",
    "print(experiment.models[0].crossval_rs)\n",
    "print(experiment.models[0].mae)\n",
    "\n",
    "experiment.models[0].crossval_scores.mean()"
   ]
  },
  {
   "cell_type": "code",
   "execution_count": 9,
   "metadata": {},
   "outputs": [],
   "source": [
    "res=  np.array(experiment.models[0].predicted_test_values)\n",
    "np.save(\"./predict/pH\",res)"
   ]
  },
  {
   "cell_type": "code",
   "execution_count": null,
   "metadata": {},
   "outputs": [
    {
     "name": "stdout",
     "output_type": "stream",
     "text": [
      "[0.92924521 0.93309339 0.90434612 0.91175416 0.97988553]\n",
      "[0.07072827 0.06497107 0.09564543 0.08582077 0.02011335]\n",
      "[0.19262939 0.19733602 0.19221746 0.18549364 0.19679249]\n"
     ]
    }
   ],
   "source": [
    "print(experiment.models[5].crossval_scores)\n",
    "print(experiment.models[5].crossval_rs)\n",
    "print(experiment.models[5].mae)"
   ]
  }
 ],
 "metadata": {
  "kernelspec": {
   "display_name": "thesis",
   "language": "python",
   "name": "python3"
  },
  "language_info": {
   "codemirror_mode": {
    "name": "ipython",
    "version": 3
   },
   "file_extension": ".py",
   "mimetype": "text/x-python",
   "name": "python",
   "nbconvert_exporter": "python",
   "pygments_lexer": "ipython3",
   "version": "3.9.16"
  }
 },
 "nbformat": 4,
 "nbformat_minor": 2
}
