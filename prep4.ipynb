{
 "cells": [
  {
   "cell_type": "code",
   "execution_count": 1,
   "metadata": {},
   "outputs": [],
   "source": [
    "%load_ext autoreload\n",
    "%autoreload 2"
   ]
  },
  {
   "cell_type": "code",
   "execution_count": 2,
   "metadata": {},
   "outputs": [],
   "source": [
    "from loader.TrainValLoader import train_val_loader\n",
    "from loader.CSVLoader import csv_loader\n",
    "from loader.TestLoader import test_loader\n",
    "layers = 90\n",
    "gt,wave = csv_loader()\n",
    "all_data = train_val_loader()\n",
    "all_data_test = test_loader()"
   ]
  },
  {
   "cell_type": "code",
   "execution_count": 3,
   "metadata": {},
   "outputs": [],
   "source": [
    "import numpy as np\n",
    "from prep.BM3DBlock import bm3d_block\n",
    "from prep.Normlize import normalize_layers\n",
    "from prep.WaveletBlock import wavelet_transform\n",
    "from prep.ContinuumRemovalBlock import continuum_removal\n",
    "from prep.GaussianBlock import gaussian_block\n",
    "from prep.ResizeBlock import make_resize_block\n",
    "from prep.HelperBlocks import pipe\n",
    "from prep.PCABlock import pca_block\n",
    "from prep.SpectralIndexes import calc_indexes\n",
    "from prep.SmoothDerivativeBlock import savgol_block\n",
    "from selMethods.FCBF import fcbf_method\n",
    "from selMethods.LowestInterCor import lowest_inter_cor_method\n",
    "from selMethods.MutualInfo import mutual_info_method\n",
    "from selMethods.SpearmanCor import spearman_method\n",
    "from selMethods.reliefF import reliefF_method\n",
    "\n",
    "transform_set1 = lambda d, is_test: pipe(d,[\n",
    "    make_resize_block(16, pre_fill=0, order=0),\n",
    "    lambda d: savgol_block(d,5,2,1,2),\n",
    "    lambda d: np.ma.filled(d,0)\n",
    "]) \n",
    "\n",
    "transform_set2 = lambda d, is_test: pipe(d,[\n",
    "    make_resize_block(24, pre_fill=0, order=0),\n",
    "    lambda d: savgol_block(d,5,2,1,2),\n",
    "    lambda d: np.ma.filled(d,0)\n",
    "]) \n",
    "\n",
    "transform_set3 = lambda d, is_test: pipe(d,[\n",
    "    make_resize_block(24, pre_fill=0, order=0,extend_strategy=\"padding\"),\n",
    "    lambda d: savgol_block(d,5,2,1,2),\n",
    "    lambda d: np.ma.filled(d,0)\n",
    "]) \n",
    "\n",
    "transform_set4 = lambda d, is_test: pipe(d,[\n",
    "    make_resize_block(10, pre_fill=-1, order=0,extend_strategy=\"padding\"),\n",
    "    lambda d: savgol_block(d,5,2,1,2),\n",
    "    lambda d: np.ma.filled(d,0)\n",
    "]) \n",
    "\n",
    "transform_set5 = lambda d, is_test: pipe(d,[\n",
    "    make_resize_block(10, pre_fill=None, order=0,extend_strategy=\"padding\"),\n",
    "    lambda d: savgol_block(d,5,2,1,2),\n",
    "    lambda d: np.ma.filled(d,0)\n",
    "]) \n",
    "\n",
    "transform_set6 = lambda d, is_test: pipe(d,[\n",
    "    make_resize_block(10, pre_fill=\"harmonic\", order=0, extend_strategy=\"padding\",post_fill=0),\n",
    "    lambda d: savgol_block(d,5,2,1,2),\n",
    "    lambda d: np.ma.filled(d,0)\n",
    "]) \n",
    "\n",
    "transform_set7 = lambda d, is_test: pipe(d,[\n",
    "    make_resize_block(24, pre_fill=0, order=2, extend_strategy=\"padding\"),\n",
    "    lambda d: savgol_block(d,5,2,1,2),\n",
    "    lambda d: np.ma.filled(d,0)\n",
    "]) \n",
    "\n",
    "transform_set8 = lambda d, is_test: pipe(d,[\n",
    "    make_resize_block(24, pre_fill=0, order=2, extend_strategy=\"padding\"),\n",
    "    lambda d: savgol_block(d,11,2,2),\n",
    "    lambda d: normalize_layers(d,not is_test),\n",
    "    lambda d: np.ma.filled(d,0)\n",
    "]) "
   ]
  },
  {
   "cell_type": "code",
   "execution_count": 4,
   "metadata": {},
   "outputs": [],
   "source": [
    "transform_function = transform_set8\n",
    "name=\"test8\""
   ]
  },
  {
   "cell_type": "code",
   "execution_count": 5,
   "metadata": {},
   "outputs": [],
   "source": [
    "\n",
    "transformed, transform_next, indices = spearman_method(transform_function(all_data,False),gt[\"K\"],final_count=30)\n",
    "transformed_test = transform_next(transform_function(all_data_test,True))\n",
    "np.save(f\"./experiment4/{name}_K\",transformed)\n",
    "np.save(f\"./experiment4/{name}_K_test\",transformed_test)"
   ]
  },
  {
   "cell_type": "code",
   "execution_count": 6,
   "metadata": {},
   "outputs": [],
   "source": [
    "transformed, transform_next, indices = reliefF_method(transform_function(all_data,False),gt[\"P\"],final_count=30)\n",
    "transformed_test = transform_next(transform_function(all_data_test,True))\n",
    "np.save(f\"./experiment4/{name}_P\",transformed)\n",
    "np.save(f\"./experiment4/{name}_P_test\",transformed_test)"
   ]
  },
  {
   "cell_type": "code",
   "execution_count": 7,
   "metadata": {},
   "outputs": [],
   "source": [
    "transformed, transform_next, indices = fcbf_method(transform_function(all_data,False),gt[\"Mg\"],final_count=60)\n",
    "transformed_test = transform_next(transform_function(all_data_test,True))\n",
    "np.save(f\"./experiment4/{name}_Mg\",transformed)\n",
    "np.save(f\"./experiment4/{name}_Mg_test\",transformed_test)"
   ]
  }
 ],
 "metadata": {
  "kernelspec": {
   "display_name": "thesis",
   "language": "python",
   "name": "python3"
  },
  "language_info": {
   "codemirror_mode": {
    "name": "ipython",
    "version": 3
   },
   "file_extension": ".py",
   "mimetype": "text/x-python",
   "name": "python",
   "nbconvert_exporter": "python",
   "pygments_lexer": "ipython3",
   "version": "3.9.16"
  },
  "orig_nbformat": 4
 },
 "nbformat": 4,
 "nbformat_minor": 2
}
