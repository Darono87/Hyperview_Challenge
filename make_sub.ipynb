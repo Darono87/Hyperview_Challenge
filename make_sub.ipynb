{
 "cells": [
  {
   "cell_type": "code",
   "execution_count": 1,
   "metadata": {},
   "outputs": [],
   "source": [
    "%load_ext autoreload\n",
    "%autoreload 2"
   ]
  },
  {
   "cell_type": "code",
   "execution_count": 2,
   "metadata": {},
   "outputs": [],
   "source": [
    "import numpy as np\n",
    "\n",
    "\n",
    "test_data_k = np.load(f'./experiment4/test1_K_test.npy')\n",
    "\n",
    "test_data_p = np.load(f'./experiment4/test3_P_test.npy')\n",
    "\n",
    "test_data_Mg = np.load(f'./experiment4/test7_Mg_test.npy')"
   ]
  },
  {
   "cell_type": "code",
   "execution_count": 3,
   "metadata": {},
   "outputs": [
    {
     "name": "stderr",
     "output_type": "stream",
     "text": [
      "c:\\ProgramData\\Anaconda3\\envs\\thesis\\lib\\site-packages\\h5py\\__init__.py:36: UserWarning: h5py is running against HDF5 1.12.2 when it was built against 1.12.1, this may cause problems\n",
      "  _warn((\"h5py is running against HDF5 {0} when it was built against {1}, \"\n"
     ]
    }
   ],
   "source": [
    "from creators.CNN3DCreator import  CNN3DNetworkParams\n",
    "from creators.CRNNCreator import CRNNNetworkParams\n",
    "from creators.ModelParams import Conv1DParams, Conv2DParams, Conv3DParams, DeepLayerParams, FlattenParams, GenericNeuralNetworkParams, RandomForestParams, RecurrentLayerParams, SVRParams\n",
    "from creators.CNN1DCreator import  CNN1DNetworkParams\n",
    "from creators.CNN2DCreator import  CNN2DNetworkParams\n",
    "from prep.HelperBlocks import pipe, split_3d_to_timeseries\n",
    "import tensorflow as tf\n",
    "from prep.MSCBlock import msc_block, msc_block1d\n",
    "\n",
    "from prep.Normlize import normalize_layers\n",
    "\n",
    "drop=0.53\n",
    "epochs=50\n",
    "optimizer = tf.keras.optimizers.Adam\n",
    "folds = 5\n",
    "\n",
    "get_params_cnn2d_task1 = lambda: CNN2DNetworkParams(\n",
    "    conv=[Conv2DParams(kernel=(4,4),pool_size=(3,3),filters=64,normalization=True,activation=\"relu\", dropout=drop),\n",
    "          Conv2DParams(kernel=(4,4),pool_size=(2,2),filters=512, normalization=True,activation=\"relu\", dropout=drop),\n",
    "          Conv2DParams(kernel=(3,3),pool_size=(2,2),filters=512, normalization=True,activation=\"relu\", dropout=drop),\n",
    "          ],\n",
    "    flatten=FlattenParams(dropout=drop,normalization=True),\n",
    "    deep=[DeepLayerParams(neurons=1000,dropout=drop,normalization=True),\n",
    "          DeepLayerParams(neurons=400,dropout=drop,normalization=True)],\n",
    "    generic=GenericNeuralNetworkParams(\n",
    "        prepare_function=lambda data, is_test: pipe(data,[\n",
    "            lambda d: d]), \n",
    "        epochs=epochs,\n",
    "        optimizer=optimizer\n",
    "        )\n",
    ")\n",
    "\n",
    "get_params_cnn2d_task2 = lambda: CNN2DNetworkParams(\n",
    "    conv=[Conv2DParams(kernel=(5,5),pool_size=(3,3),filters=64,normalization=True,activation=\"relu\", dropout=drop),\n",
    "          Conv2DParams(kernel=(5,5),pool_size=(3,3),filters=512, normalization=True,activation=\"relu\", dropout=drop),\n",
    "          Conv2DParams(kernel=(5,5),pool_size=(2,2),filters=1024, normalization=True,activation=\"relu\", dropout=drop),\n",
    "          ],\n",
    "    flatten=FlattenParams(dropout=drop,normalization=True),\n",
    "    deep=[DeepLayerParams(neurons=1000,dropout=drop,normalization=True),\n",
    "          DeepLayerParams(neurons=400,dropout=drop,normalization=True)],\n",
    "    generic=GenericNeuralNetworkParams(\n",
    "        prepare_function=lambda data, is_test: pipe(data,[\n",
    "            lambda d: d]), \n",
    "        epochs=epochs,\n",
    "        optimizer=optimizer,loss=tf.losses.Huber()\n",
    "        )\n",
    ")"
   ]
  },
  {
   "cell_type": "code",
   "execution_count": 5,
   "metadata": {},
   "outputs": [
    {
     "name": "stdout",
     "output_type": "stream",
     "text": [
      "37/37 [==============================] - 1s 16ms/step\n",
      "37/37 [==============================] - 1s 16ms/step\n",
      "37/37 [==============================] - 1s 16ms/step\n",
      "37/37 [==============================] - 1s 16ms/step\n",
      "37/37 [==============================] - 1s 16ms/step\n"
     ]
    },
    {
     "data": {
      "text/plain": [
       "(1154,)"
      ]
     },
     "execution_count": 5,
     "metadata": {},
     "output_type": "execute_result"
    }
   ],
   "source": [
    "predicted_Mg = []\n",
    "for i in range(5):\n",
    "    params = get_params_cnn2d_task2()\n",
    "    flow = params.generate_flow(\"model\")\n",
    "    flow.import_weights(test_data_Mg.shape, f'./best/Mg/{i}.h5')\n",
    "    predicted_Mg.append(flow.predict(test_data_Mg))\n",
    "\n",
    "predicted_Mg = np.array(predicted_Mg).mean(axis=0)\n",
    "predicted_Mg.shape"
   ]
  },
  {
   "cell_type": "code",
   "execution_count": 6,
   "metadata": {},
   "outputs": [
    {
     "name": "stdout",
     "output_type": "stream",
     "text": [
      "37/37 [==============================] - 1s 18ms/step\n",
      "37/37 [==============================] - 1s 14ms/step\n",
      "37/37 [==============================] - 1s 14ms/step\n",
      "37/37 [==============================] - 1s 13ms/step\n",
      "37/37 [==============================] - 1s 14ms/step\n"
     ]
    },
    {
     "data": {
      "text/plain": [
       "(1154,)"
      ]
     },
     "execution_count": 6,
     "metadata": {},
     "output_type": "execute_result"
    }
   ],
   "source": [
    "predicted_K = []\n",
    "for i in range(5):\n",
    "    params = get_params_cnn2d_task1()\n",
    "    flow = params.generate_flow(\"model\")\n",
    "    flow.import_weights(test_data_k.shape, f'./best/k/{i}.h5')\n",
    "    predicted_K.append(flow.predict(test_data_k))\n",
    "\n",
    "predicted_K = np.array(predicted_K).mean(axis=0)\n",
    "predicted_K.shape"
   ]
  },
  {
   "cell_type": "code",
   "execution_count": 7,
   "metadata": {},
   "outputs": [
    {
     "name": "stdout",
     "output_type": "stream",
     "text": [
      "37/37 [==============================] - 1s 16ms/step\n",
      "37/37 [==============================] - 1s 16ms/step\n",
      "37/37 [==============================] - 1s 15ms/step\n",
      "37/37 [==============================] - 1s 16ms/step\n",
      "37/37 [==============================] - 1s 15ms/step\n"
     ]
    },
    {
     "data": {
      "text/plain": [
       "(1154,)"
      ]
     },
     "execution_count": 7,
     "metadata": {},
     "output_type": "execute_result"
    }
   ],
   "source": [
    "predicted_P = []\n",
    "for i in range(5):\n",
    "    params = get_params_cnn2d_task2()\n",
    "    flow = params.generate_flow(\"model\")\n",
    "    flow.import_weights(test_data_p.shape, f'./best/p/{i}.h5')\n",
    "    predicted_P.append(flow.predict(test_data_p))\n",
    "\n",
    "predicted_P = np.array(predicted_P).mean(axis=0)\n",
    "predicted_P.shape"
   ]
  },
  {
   "cell_type": "code",
   "execution_count": 8,
   "metadata": {},
   "outputs": [
    {
     "data": {
      "text/plain": [
       "(1154,)"
      ]
     },
     "execution_count": 8,
     "metadata": {},
     "output_type": "execute_result"
    }
   ],
   "source": [
    "import numpy as np\n",
    "\n",
    "\n",
    "ph = np.load(\"./predict/ph.npy\")\n",
    "ph.shape"
   ]
  },
  {
   "cell_type": "code",
   "execution_count": 9,
   "metadata": {},
   "outputs": [],
   "source": [
    "import pandas as pd\n",
    "\n",
    "\n",
    "results = pd.DataFrame(columns=[\"P\", \"K\", \"Mg\", \"pH\"])\n",
    "results[\"P\"] = predicted_P\n",
    "results[\"K\"] = predicted_K\n",
    "results[\"Mg\"] = predicted_Mg\n",
    "results[\"pH\"] = ph"
   ]
  },
  {
   "cell_type": "code",
   "execution_count": 10,
   "metadata": {},
   "outputs": [],
   "source": [
    "results[\"sample_index\"] = range(0, 1154)\n",
    "results.set_index(\"sample_index\").to_csv(\"submission.csv\")"
   ]
  }
 ],
 "metadata": {
  "kernelspec": {
   "display_name": "thesis",
   "language": "python",
   "name": "python3"
  },
  "language_info": {
   "codemirror_mode": {
    "name": "ipython",
    "version": 3
   },
   "file_extension": ".py",
   "mimetype": "text/x-python",
   "name": "python",
   "nbconvert_exporter": "python",
   "pygments_lexer": "ipython3",
   "version": "3.9.16"
  },
  "orig_nbformat": 4
 },
 "nbformat": 4,
 "nbformat_minor": 2
}
